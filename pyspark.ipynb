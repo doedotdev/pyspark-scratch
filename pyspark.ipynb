{
 "cells": [
  {
   "cell_type": "markdown",
   "metadata": {},
   "source": [
    "## Evaluating 2001 to 2018 Chicago Crime Data Using PySpark"
   ]
  },
  {
   "cell_type": "code",
   "execution_count": 1,
   "metadata": {},
   "outputs": [
    {
     "name": "stdout",
     "output_type": "stream",
     "text": [
      "3.7.1\n"
     ]
    }
   ],
   "source": [
    "import platform\n",
    "print(platform.python_version())"
   ]
  },
  {
   "cell_type": "code",
   "execution_count": 2,
   "metadata": {},
   "outputs": [
    {
     "name": "stdout",
     "output_type": "stream",
     "text": [
      "2.4.0\n"
     ]
    }
   ],
   "source": [
    "from pyspark.sql import SparkSession, types\n",
    "from pyspark.sql.functions import to_timestamp, unix_timestamp, max as max_dttm\n",
    "from pyspark.sql.types import *\n",
    "spark = SparkSession.builder.appName('PySpark').getOrCreate()\n",
    "print(spark.version)"
   ]
  },
  {
   "cell_type": "markdown",
   "metadata": {},
   "source": [
    "### Create dataframe from csv and print the schema:"
   ]
  },
  {
   "cell_type": "code",
   "execution_count": 179,
   "metadata": {},
   "outputs": [
    {
     "name": "stdout",
     "output_type": "stream",
     "text": [
      "root\n",
      " |-- ID: integer (nullable = true)\n",
      " |-- Case Number: string (nullable = true)\n",
      " |-- Date: string (nullable = true)\n",
      " |-- Block: string (nullable = true)\n",
      " |-- IUCR: string (nullable = true)\n",
      " |-- Primary Type: string (nullable = true)\n",
      " |-- Description: string (nullable = true)\n",
      " |-- Location Description: string (nullable = true)\n",
      " |-- xc: boolean (nullable = true)\n",
      " |-- Domestic: boolean (nullable = true)\n",
      " |-- Beat: integer (nullable = true)\n",
      " |-- District: integer (nullable = true)\n",
      " |-- Ward: integer (nullable = true)\n",
      " |-- Community Area: integer (nullable = true)\n",
      " |-- FBI Code: string (nullable = true)\n",
      " |-- X Coordinate: integer (nullable = true)\n",
      " |-- Y Coordinate: integer (nullable = true)\n",
      " |-- Year: integer (nullable = true)\n",
      " |-- Updated x: string (nullable = true)\n",
      " |-- Latitude: double (nullable = true)\n",
      " |-- Longitude: double (nullable = true)\n",
      " |-- Location: string (nullable = true)\n",
      "\n"
     ]
    }
   ],
   "source": [
    "df = spark.read.csv('chicago_crimes_2001_to_present.csv', header=True, inferSchema=True)\n",
    "df.printSchema()"
   ]
  },
  {
   "cell_type": "markdown",
   "metadata": {},
   "source": [
    "### Convert date to timestamp format for proper processing:"
   ]
  },
  {
   "cell_type": "code",
   "execution_count": 157,
   "metadata": {},
   "outputs": [
    {
     "name": "stdout",
     "output_type": "stream",
     "text": [
      "root\n",
      " |-- ID: integer (nullable = true)\n",
      " |-- Case Number: string (nullable = true)\n",
      " |-- Date: string (nullable = true)\n",
      " |-- Block: string (nullable = true)\n",
      " |-- IUCR: string (nullable = true)\n",
      " |-- Primary Type: string (nullable = true)\n",
      " |-- Description: string (nullable = true)\n",
      " |-- Location Description: string (nullable = true)\n",
      " |-- xc: boolean (nullable = true)\n",
      " |-- Domestic: boolean (nullable = true)\n",
      " |-- Beat: integer (nullable = true)\n",
      " |-- District: integer (nullable = true)\n",
      " |-- Ward: integer (nullable = true)\n",
      " |-- Community Area: integer (nullable = true)\n",
      " |-- FBI Code: string (nullable = true)\n",
      " |-- X Coordinate: integer (nullable = true)\n",
      " |-- Y Coordinate: integer (nullable = true)\n",
      " |-- Year: integer (nullable = true)\n",
      " |-- Updated x: string (nullable = true)\n",
      " |-- Latitude: double (nullable = true)\n",
      " |-- Longitude: double (nullable = true)\n",
      " |-- Location: string (nullable = true)\n",
      " |-- dttm: timestamp (nullable = true)\n",
      "\n"
     ]
    }
   ],
   "source": [
    "df = df.withColumn('dttm', unix_timestamp('Date', \"MM/dd/yyyy hh:mm:ss aa\").cast(TimestampType()))\n",
    "df.printSchema()"
   ]
  },
  {
   "cell_type": "markdown",
   "metadata": {},
   "source": [
    "### Rows and Columns of the DataFrame"
   ]
  },
  {
   "cell_type": "code",
   "execution_count": 161,
   "metadata": {},
   "outputs": [
    {
     "name": "stdout",
     "output_type": "stream",
     "text": [
      "Rows: 6754279\n",
      "Cols: 23\n"
     ]
    }
   ],
   "source": [
    "print('Rows: ' + str(df.count()))\n",
    "print('Cols: ' + str(len(df.columns)))"
   ]
  },
  {
   "cell_type": "markdown",
   "metadata": {},
   "source": [
    "### Get Date Range of Occurences "
   ]
  },
  {
   "cell_type": "code",
   "execution_count": 162,
   "metadata": {},
   "outputs": [
    {
     "name": "stdout",
     "output_type": "stream",
     "text": [
      "First Date: 2001-01-01 00:00:00\n",
      "Last Date: 2018-11-22 23:56:00\n"
     ]
    }
   ],
   "source": [
    "first_date = df.agg({\"dttm\":\"min\"}).collect()[0][0]\n",
    "print('First Date: ' + str(first_date))\n",
    "\n",
    "last_date = df.agg({\"dttm\":\"max\"}).collect()[0][0]\n",
    "print('Last Date: ' + str(last_date))"
   ]
  },
  {
   "cell_type": "markdown",
   "metadata": {},
   "source": [
    "### Year Operations"
   ]
  },
  {
   "cell_type": "code",
   "execution_count": 164,
   "metadata": {},
   "outputs": [
    {
     "name": "stdout",
     "output_type": "stream",
     "text": [
      "Total Years: 18\n",
      "+----+------+\n",
      "|year| count|\n",
      "+----+------+\n",
      "|2001|485738|\n",
      "|2002|486742|\n",
      "|2003|475923|\n",
      "|2004|469366|\n",
      "|2005|453686|\n",
      "|2006|448078|\n",
      "|2007|436986|\n",
      "|2008|427024|\n",
      "|2009|392649|\n",
      "|2010|370277|\n",
      "|2011|351736|\n",
      "|2012|335908|\n",
      "|2013|307020|\n",
      "|2014|275196|\n",
      "|2015|263930|\n",
      "|2016|268814|\n",
      "|2017|267811|\n",
      "|2018|237148|\n",
      "+----+------+\n",
      "\n",
      "Total Years: 18\n"
     ]
    }
   ],
   "source": [
    "from pyspark.sql.functions import year, countDistinct\n",
    "\n",
    "# get total years from main data frame\n",
    "total_years = df.agg(countDistinct(year('dttm'))).na.drop().collect()[0][0]\n",
    "print('Total Years: ' + str(total_years))\n",
    "\n",
    "per_year = df.select(year('dttm').alias('year')).groupBy('year').count().orderBy('year').na.drop()\n",
    "per_year.show()\n",
    "\n",
    "# get total years if you pull out a seperate dataframe\n",
    "print('Total Years: ' + str(per_year.count()))"
   ]
  },
  {
   "cell_type": "code",
   "execution_count": 178,
   "metadata": {},
   "outputs": [
    {
     "data": {
      "text/plain": [
       "<matplotlib.axes._subplots.AxesSubplot at 0x12ad72080>"
      ]
     },
     "execution_count": 178,
     "metadata": {},
     "output_type": "execute_result"
    },
    {
     "data": {
      "image/png": "[encoded data removed]",
      "text/plain": [
       "<Figure size 432x288 with 1 Axes>"
      ]
     },
     "metadata": {
      "needs_background": "light"
     },
     "output_type": "display_data"
    }
   ],
   "source": [
    "import matplotlib\n",
    "import matplotlib.pyplot as plt\n",
    "import numpy as np\n",
    "%matplotlib inline\n",
    "\n",
    "per_year = df.select(year('dttm').alias('year')).groupBy('year').count().orderBy('year', ascending=True).na.drop()\n",
    "\n",
    "per_year_pandas_df = per_year.toPandas()\n",
    "per_year_pandas_df.plot(kind='bar',x='year',y='count',colormap='winter_r', title='Chicago Police Reports 2001 - 2018')"
   ]
  },
  {
   "cell_type": "code",
   "execution_count": 39,
   "metadata": {},
   "outputs": [
    {
     "name": "stdout",
     "output_type": "stream",
     "text": [
      "Max Year: 2002 | 486742\n",
      "Min Year: 2018 | 237148\n",
      "Time to get Max and min value: 76.90986901500037\n",
      "Avg Year: 375224.0\n"
     ]
    }
   ],
   "source": [
    "import timeit\n",
    "start_time = timeit.default_timer()\n",
    "\n",
    "max_year_value = per_year.agg({\"count\":\"max\"}).collect()[0][0]\n",
    "max_year = per_year.filter(per_year['count'] == max_year_value).select('year').collect()[0][0]\n",
    "print('Max Year: ' + str(max_year) + ' | ' + str(max_year_value))\n",
    "\n",
    "# min crimes in a year\n",
    "min_year_value = per_year.agg({\"count\":\"min\"}).collect()[0][0]\n",
    "min_year = per_year.filter(per_year['count'] == min_year_value).select('year').collect()[0][0]\n",
    "print('Min Year: ' + str(min_year) + ' | ' + str(min_year_value))\n",
    "\n",
    "elapsed = timeit.default_timer() - start_time\n",
    "print('Time to get Max and min value: ' + str(elapsed))\n",
    "\n",
    "# average crimes in a year\n",
    "avg_year_value = per_year.agg({\"count\":\"avg\"}).collect()[0][0]\n",
    "print('Avg Year: ' + str(avg_year_value))"
   ]
  },
  {
   "cell_type": "code",
   "execution_count": 172,
   "metadata": {},
   "outputs": [
    {
     "name": "stdout",
     "output_type": "stream",
     "text": [
      "Row(year=2002, count=486742)\n",
      "Row(year=2018, count=237148)\n",
      "Time to get Max and min value: 39.71179824899809\n"
     ]
    }
   ],
   "source": [
    "import timeit\n",
    "\n",
    "start_time = timeit.default_timer()\n",
    "# code you want to evaluate\n",
    "\n",
    "per_year = per_year.orderBy('count', ascending=False)\n",
    "max_value = per_year.head()\n",
    "print(max_value)\n",
    "\n",
    "per_year = per_year.orderBy('count', ascending=True)\n",
    "min_value = per_year.head()\n",
    "print(min_value)\n",
    "\n",
    "elapsed = timeit.default_timer() - start_time\n",
    "print('Time to get Max and min value: ' + str(elapsed))\n"
   ]
  },
  {
   "cell_type": "code",
   "execution_count": 118,
   "metadata": {},
   "outputs": [
    {
     "name": "stdout",
     "output_type": "stream",
     "text": [
      "Total Days: 6535\n",
      "+----------+-----+\n",
      "|YYYY/MM/DD|count|\n",
      "+----------+-----+\n",
      "|  2003/1/1| 2023|\n",
      "|  2005/1/1| 1961|\n",
      "|  2007/1/1| 1946|\n",
      "|  2006/1/1| 1901|\n",
      "|  2004/1/1| 1890|\n",
      "|  2002/1/1| 1854|\n",
      "|  2009/1/1| 1818|\n",
      "|  2001/1/1| 1815|\n",
      "|  2008/1/1| 1801|\n",
      "|  2002/6/1| 1782|\n",
      "| 2002/10/1| 1763|\n",
      "|2003/10/17| 1751|\n",
      "| 2001/11/1| 1736|\n",
      "| 2001/10/1| 1707|\n",
      "|2003/10/16| 1701|\n",
      "|  2004/6/1| 1698|\n",
      "|  2002/8/1| 1688|\n",
      "| 2003/8/21| 1683|\n",
      "|  2001/6/1| 1660|\n",
      "| 2003/11/1| 1655|\n",
      "+----------+-----+\n",
      "only showing top 20 rows\n",
      "\n",
      "Most: 2003/1/1 | 2023\n",
      "+----------+-----+\n",
      "|YYYY/MM/DD|count|\n",
      "+----------+-----+\n",
      "|  2011/2/2|  320|\n",
      "|  2014/1/6|  365|\n",
      "|2017/12/25|  394|\n",
      "|  2014/1/5|  404|\n",
      "|2013/12/25|  425|\n",
      "|2014/12/25|  438|\n",
      "|  2015/1/8|  447|\n",
      "|2014/11/27|  453|\n",
      "| 2015/2/19|  463|\n",
      "|  2014/1/7|  466|\n",
      "|  2015/2/2|  469|\n",
      "| 2017/3/14|  470|\n",
      "|  2015/1/7|  473|\n",
      "|  2014/1/2|  482|\n",
      "|2016/12/25|  487|\n",
      "|2018/11/22|  493|\n",
      "|2015/12/25|  498|\n",
      "|2017/12/24|  501|\n",
      "|  2015/1/6|  502|\n",
      "|2010/12/25|  503|\n",
      "+----------+-----+\n",
      "only showing top 20 rows\n",
      "\n",
      "Least: 2011/2/2 | 320\n",
      "Avg: 1033.5167559296099\n"
     ]
    }
   ],
   "source": [
    "from pyspark.sql.functions import year, month, dayofmonth, lit, concat\n",
    "from datetime import datetime, timedelta\n",
    "from pyspark.sql.types import StringType\n",
    "\n",
    "per_date = df.withColumn('YYYY/MM/DD', \n",
    "                         concat(\n",
    "                             year('dttm').cast(StringType()),\n",
    "                             lit(\"/\"),\n",
    "                             month('dttm').cast(StringType()),\n",
    "                             lit(\"/\"),\n",
    "                             dayofmonth('dttm').cast(StringType())))\\\n",
    "    .groupBy('YYYY/MM/DD')\\\n",
    "    .count()\\\n",
    "    .orderBy('count', ascending=False)\\\n",
    "    .na.drop()\n",
    "\n",
    "print('Total Days: ' + str(per_date.count()))\n",
    "\n",
    "per_date.show()\n",
    "\n",
    "max_value = per_date.head()\n",
    "print('Most: ' + str(max_value[0]) + ' | ' + str(max_value[1]))\n",
    "\n",
    "per_date = per_date.orderBy('count', ascending=True)\n",
    "per_date.show()\n",
    "\n",
    "min_value = per_date.head()\n",
    "print('Least: ' + str(min_value[0]) + ' | ' + str(min_value[1]))\n",
    "\n",
    "avg_day_value = per_date.agg({\"count\":\"avg\"}).collect()[0][0]\n",
    "print('Avg: ' + str(avg_day_value))\n"
   ]
  },
  {
   "cell_type": "code",
   "execution_count": 176,
   "metadata": {},
   "outputs": [
    {
     "data": {
      "text/plain": [
       "<matplotlib.axes._subplots.AxesSubplot at 0x126b92438>"
      ]
     },
     "execution_count": 176,
     "metadata": {},
     "output_type": "execute_result"
    },
    {
     "data": {
      "image/png": "[encoded data removed]",
      "text/plain": [
       "<Figure size 432x288 with 1 Axes>"
      ]
     },
     "metadata": {
      "needs_background": "light"
     },
     "output_type": "display_data"
    }
   ],
   "source": [
    "per_date = df.withColumn('YYYY/MM/DD', \n",
    "                         concat(\n",
    "                             year('dttm').cast(StringType()),\n",
    "                             lit(\"/\"),\n",
    "                             month('dttm').cast(StringType()),\n",
    "                             lit(\"/\"),\n",
    "                             dayofmonth('dttm').cast(StringType())))\\\n",
    "    .groupBy('YYYY/MM/DD')\\\n",
    "    .count()\\\n",
    "    .orderBy('YYYY/MM/DD', ascending=True)\\\n",
    "    .na.drop()\n",
    "\n",
    "per_date_pandas_df = per_date.toPandas()\n",
    "per_date_pandas_df.plot(kind='bar',x='YYYY/MM/DD',y='count',colormap='winter_r', title='Chicago Police Reports 2001 - 2018')"
   ]
  },
  {
   "cell_type": "code",
   "execution_count": 120,
   "metadata": {},
   "outputs": [
    {
     "name": "stdout",
     "output_type": "stream",
     "text": [
      "Total Days: 215\n",
      "+-------+-----+\n",
      "|YYYY/MM|count|\n",
      "+-------+-----+\n",
      "| 2002/7|46013|\n",
      "| 2001/7|44691|\n",
      "| 2003/8|44267|\n",
      "| 2002/8|44210|\n",
      "| 2001/8|44032|\n",
      "| 2003/7|43415|\n",
      "|2003/10|43327|\n",
      "| 2004/7|43236|\n",
      "|2002/10|43145|\n",
      "| 2004/8|43044|\n",
      "|2001/10|43028|\n",
      "| 2002/5|42913|\n",
      "| 2002/6|42834|\n",
      "| 2002/9|42388|\n",
      "| 2001/5|41821|\n",
      "| 2005/7|41805|\n",
      "| 2001/6|41724|\n",
      "| 2006/7|41544|\n",
      "| 2005/8|41543|\n",
      "|2004/10|41523|\n",
      "+-------+-----+\n",
      "only showing top 20 rows\n",
      "\n",
      "Most: 2002/7 | 46013\n",
      "+-------+-----+\n",
      "|YYYY/MM|count|\n",
      "+-------+-----+\n",
      "|2018/11|14475|\n",
      "| 2015/2|16344|\n",
      "| 2018/2|17207|\n",
      "| 2014/2|18006|\n",
      "| 2016/2|18680|\n",
      "| 2017/2|19229|\n",
      "| 2014/1|19970|\n",
      "| 2018/1|20245|\n",
      "|2016/12|20323|\n",
      "| 2017/3|20481|\n",
      "|2015/11|20548|\n",
      "| 2016/1|20584|\n",
      "|2014/11|20734|\n",
      "| 2015/1|20831|\n",
      "|2014/12|20953|\n",
      "| 2018/4|20976|\n",
      "|2017/12|21002|\n",
      "| 2018/3|21073|\n",
      "| 2016/4|21096|\n",
      "|2015/12|21102|\n",
      "+-------+-----+\n",
      "only showing top 20 rows\n",
      "\n",
      "Least: 2018/11 | 14475\n",
      "Avg: 31414.102325581396\n"
     ]
    }
   ],
   "source": [
    "from pyspark.sql.functions import year, month, dayofmonth, lit, concat\n",
    "from datetime import datetime, timedelta\n",
    "from pyspark.sql.types import StringType\n",
    "\n",
    "per_month = df.withColumn('YYYY/MM', \n",
    "                         concat(\n",
    "                             year('dttm').cast(StringType()),\n",
    "                             lit(\"/\"),\n",
    "                             month('dttm').cast(StringType())))\\\n",
    "    .groupBy('YYYY/MM')\\\n",
    "    .count()\\\n",
    "    .orderBy('count', ascending=False)\\\n",
    "    .na.drop()\n",
    "\n",
    "print('Total Months: ' + str(per_month.count()))\n",
    "\n",
    "per_month.show()\n",
    "\n",
    "max_value = per_month.head()\n",
    "print('Most: ' + str(max_value[0]) + ' | ' + str(max_value[1]))\n",
    "\n",
    "per_month = per_month.orderBy('count', ascending=True)\n",
    "per_month.show()\n",
    "\n",
    "min_value = per_month.head()\n",
    "print('Least: ' + str(min_value[0]) + ' | ' + str(min_value[1]))\n",
    "\n",
    "avg_day_value = per_month.agg({\"count\":\"avg\"}).collect()[0][0]\n",
    "print('Avg: ' + str(avg_day_value))\n"
   ]
  },
  {
   "cell_type": "code",
   "execution_count": 122,
   "metadata": {},
   "outputs": [
    {
     "name": "stdout",
     "output_type": "stream",
     "text": [
      "+--------------------+------+\n",
      "|         Description| count|\n",
      "+--------------------+------+\n",
      "|              SIMPLE|796955|\n",
      "|      $500 AND UNDER|547562|\n",
      "|DOMESTIC BATTERY ...|517862|\n",
      "|          TO VEHICLE|375202|\n",
      "|         TO PROPERTY|355215|\n",
      "|           OVER $500|348830|\n",
      "|POSS: CANNABIS 30...|276637|\n",
      "|      FORCIBLE ENTRY|263149|\n",
      "|          AUTOMOBILE|246469|\n",
      "|       FROM BUILDING|227082|\n",
      "|        RETAIL THEFT|167601|\n",
      "|    TELEPHONE THREAT|134604|\n",
      "|             TO LAND|119847|\n",
      "|         POSS: CRACK|119151|\n",
      "|      UNLAWFUL ENTRY|103049|\n",
      "|HARASSMENT BY TEL...|100475|\n",
      "|AGGRAVATED: OTHER...| 93369|\n",
      "| POSS: HEROIN(WHITE)| 92069|\n",
      "|      ARMED: HANDGUN| 90622|\n",
      "|STRONGARM - NO WE...| 88800|\n",
      "+--------------------+------+\n",
      "only showing top 20 rows\n",
      "\n"
     ]
    }
   ],
   "source": [
    "df_desc = df.select('Description').groupBy('Description').count().orderBy('count', ascending=False).na.drop()\n",
    "df_desc.show()"
   ]
  },
  {
   "cell_type": "code",
   "execution_count": 128,
   "metadata": {},
   "outputs": [
    {
     "name": "stdout",
     "output_type": "stream",
     "text": [
      "+--------------------+-------+\n",
      "|        Primary Type|  count|\n",
      "+--------------------+-------+\n",
      "|               THEFT|1419778|\n",
      "|             BATTERY|1233497|\n",
      "|     CRIMINAL DAMAGE| 772203|\n",
      "|           NARCOTICS| 711246|\n",
      "|       OTHER OFFENSE| 419045|\n",
      "|             ASSAULT| 418984|\n",
      "|            BURGLARY| 388317|\n",
      "| MOTOR VEHICLE THEFT| 314482|\n",
      "|  DECEPTIVE PRACTICE| 262920|\n",
      "|             ROBBERY| 255909|\n",
      "|   CRIMINAL TRESPASS| 193555|\n",
      "|   WEAPONS VIOLATION|  70811|\n",
      "|        PROSTITUTION|  68343|\n",
      "|PUBLIC PEACE VIOL...|  47810|\n",
      "|OFFENSE INVOLVING...|  45404|\n",
      "| CRIM SEXUAL ASSAULT|  27150|\n",
      "|         SEX OFFENSE|  25123|\n",
      "|INTERFERENCE WITH...|  15175|\n",
      "|            GAMBLING|  14424|\n",
      "|LIQUOR LAW VIOLATION|  14070|\n",
      "+--------------------+-------+\n",
      "only showing top 20 rows\n",
      "\n"
     ]
    }
   ],
   "source": [
    "df_desc = df.select('Primary Type').groupBy('Primary Type').count().orderBy('count', ascending=False).na.drop()\n",
    "df_desc.show()"
   ]
  },
  {
   "cell_type": "code",
   "execution_count": 136,
   "metadata": {},
   "outputs": [
    {
     "name": "stdout",
     "output_type": "stream",
     "text": [
      "+--------------+------+\n",
      "|Community Area| count|\n",
      "+--------------+------+\n",
      "|            25|391164|\n",
      "|             8|209192|\n",
      "|            43|200332|\n",
      "|            23|194166|\n",
      "|            24|181590|\n",
      "|            67|180807|\n",
      "|            28|180580|\n",
      "|            29|176959|\n",
      "|            71|173906|\n",
      "|            68|164129|\n",
      "|            49|164029|\n",
      "|            66|152457|\n",
      "|            69|151143|\n",
      "|            32|144605|\n",
      "|            44|131552|\n",
      "|            22|129804|\n",
      "|            61|127385|\n",
      "|             6|121524|\n",
      "|            27|116570|\n",
      "|            46|114548|\n",
      "+--------------+------+\n",
      "only showing top 20 rows\n",
      "\n"
     ]
    }
   ],
   "source": [
    "df_desc = df.select('Community Area').groupBy('Community Area').count().orderBy('count', ascending=False).na.drop()\n",
    "df_desc.show()"
   ]
  },
  {
   "cell_type": "markdown",
   "metadata": {},
   "source": [
    "### Percentage of Crimes that yielded arrests:"
   ]
  },
  {
   "cell_type": "code",
   "execution_count": 154,
   "metadata": {},
   "outputs": [
    {
     "name": "stdout",
     "output_type": "stream",
     "text": [
      "+------+-------+\n",
      "|Arrest|  count|\n",
      "+------+-------+\n",
      "| false|4881385|\n",
      "|  true|1872894|\n",
      "+------+-------+\n",
      "\n",
      "Percentage Yielding in Arrests: 0.27728999646002184\n"
     ]
    }
   ],
   "source": [
    "arrests_df = df.select('Arrest').groupBy('Arrest').count().orderBy('count', ascending=False).na.drop()\n",
    "arrests_df.show()\n",
    "did = arrests_df.filter(df_desc['Arrest'] == True).collect()[0]['count']\n",
    "did_not = arrests_df.filter(df_desc['Arrest'] == False).collect()[0]['count']\n",
    "\n",
    "print('Percentage Yielding in Arrests: ' + str(did/ (did + did_not)))\n"
   ]
  },
  {
   "cell_type": "code",
   "execution_count": 148,
   "metadata": {},
   "outputs": [
    {
     "name": "stdout",
     "output_type": "stream",
     "text": [
      "1872894\n",
      "4881385\n",
      "6754279\n"
     ]
    }
   ],
   "source": [
    "print(true_row['count'])\n",
    "print(false_row['count'])\n",
    "print(true_row['count'] + false_row['count'])"
   ]
  },
  {
   "cell_type": "code",
   "execution_count": 149,
   "metadata": {},
   "outputs": [
    {
     "ename": "AttributeError",
     "evalue": "'DataFrame' object has no attribute 'sum'",
     "output_type": "error",
     "traceback": [
      "\u001b[0;31m---------------------------------------------------------------------------\u001b[0m",
      "\u001b[0;31mAttributeError\u001b[0m                            Traceback (most recent call last)",
      "\u001b[0;32m<ipython-input-149-dcb193fffcdf>\u001b[0m in \u001b[0;36m<module>\u001b[0;34m\u001b[0m\n\u001b[0;32m----> 1\u001b[0;31m \u001b[0mdf_desc\u001b[0m\u001b[0;34m.\u001b[0m\u001b[0msum\u001b[0m\u001b[0;34m(\u001b[0m\u001b[0;34m)\u001b[0m\u001b[0;34m.\u001b[0m\u001b[0mcollect\u001b[0m\u001b[0;34m(\u001b[0m\u001b[0;34m)\u001b[0m\u001b[0;34m[\u001b[0m\u001b[0;36m0\u001b[0m\u001b[0;34m]\u001b[0m\u001b[0;34m[\u001b[0m\u001b[0;36m0\u001b[0m\u001b[0;34m]\u001b[0m\u001b[0;34m\u001b[0m\u001b[0;34m\u001b[0m\u001b[0m\n\u001b[0m",
      "\u001b[0;32m~/Documents/GitHub/nv/lib/python3.7/site-packages/pyspark/sql/dataframe.py\u001b[0m in \u001b[0;36m__getattr__\u001b[0;34m(self, name)\u001b[0m\n\u001b[1;32m   1298\u001b[0m         \u001b[0;32mif\u001b[0m \u001b[0mname\u001b[0m \u001b[0;32mnot\u001b[0m \u001b[0;32min\u001b[0m \u001b[0mself\u001b[0m\u001b[0;34m.\u001b[0m\u001b[0mcolumns\u001b[0m\u001b[0;34m:\u001b[0m\u001b[0;34m\u001b[0m\u001b[0;34m\u001b[0m\u001b[0m\n\u001b[1;32m   1299\u001b[0m             raise AttributeError(\n\u001b[0;32m-> 1300\u001b[0;31m                 \"'%s' object has no attribute '%s'\" % (self.__class__.__name__, name))\n\u001b[0m\u001b[1;32m   1301\u001b[0m         \u001b[0mjc\u001b[0m \u001b[0;34m=\u001b[0m \u001b[0mself\u001b[0m\u001b[0;34m.\u001b[0m\u001b[0m_jdf\u001b[0m\u001b[0;34m.\u001b[0m\u001b[0mapply\u001b[0m\u001b[0;34m(\u001b[0m\u001b[0mname\u001b[0m\u001b[0;34m)\u001b[0m\u001b[0;34m\u001b[0m\u001b[0;34m\u001b[0m\u001b[0m\n\u001b[1;32m   1302\u001b[0m         \u001b[0;32mreturn\u001b[0m \u001b[0mColumn\u001b[0m\u001b[0;34m(\u001b[0m\u001b[0mjc\u001b[0m\u001b[0;34m)\u001b[0m\u001b[0;34m\u001b[0m\u001b[0;34m\u001b[0m\u001b[0m\n",
      "\u001b[0;31mAttributeError\u001b[0m: 'DataFrame' object has no attribute 'sum'"
     ]
    }
   ],
   "source": [
    "df_desc.sum().collect()[0][0]"
   ]
  },
  {
   "cell_type": "code",
   "execution_count": 134,
   "metadata": {},
   "outputs": [
    {
     "name": "stdout",
     "output_type": "stream",
     "text": [
      "+--------+------+\n",
      "|District| count|\n",
      "+--------+------+\n",
      "|       8|459613|\n",
      "|      11|432097|\n",
      "|       7|399052|\n",
      "|      25|390049|\n",
      "|       6|389092|\n",
      "|       4|382973|\n",
      "|       3|343284|\n",
      "|       9|335911|\n",
      "|      12|330829|\n",
      "|       2|320825|\n",
      "|      19|301079|\n",
      "|       5|299419|\n",
      "|      18|296962|\n",
      "|      15|294830|\n",
      "|      10|288800|\n",
      "|      14|266438|\n",
      "|       1|262820|\n",
      "|      16|223538|\n",
      "|      22|221413|\n",
      "|      24|201375|\n",
      "+--------+------+\n",
      "only showing top 20 rows\n",
      "\n"
     ]
    }
   ],
   "source": [
    "df_desc = df.select('District').groupBy('District').count().orderBy('count', ascending=False).na.drop()\n",
    "df_desc.show()"
   ]
  },
  {
   "cell_type": "code",
   "execution_count": 129,
   "metadata": {},
   "outputs": [
    {
     "name": "stdout",
     "output_type": "stream",
     "text": [
      "+--------------------+-------+\n",
      "|Location Description|  count|\n",
      "+--------------------+-------+\n",
      "|              STREET|1772181|\n",
      "|           RESIDENCE|1143692|\n",
      "|           APARTMENT| 698320|\n",
      "|            SIDEWALK| 665936|\n",
      "|               OTHER| 256698|\n",
      "|PARKING LOT/GARAG...| 194002|\n",
      "|               ALLEY| 151004|\n",
      "|SCHOOL, PUBLIC, B...| 142334|\n",
      "|    RESIDENCE-GARAGE| 131707|\n",
      "|  SMALL RETAIL STORE| 119452|\n",
      "|RESIDENCE PORCH/H...| 118042|\n",
      "|VEHICLE NON-COMME...| 108339|\n",
      "|          RESTAURANT| 105784|\n",
      "|  GROCERY FOOD STORE|  87415|\n",
      "|    DEPARTMENT STORE|  83783|\n",
      "|         GAS STATION|  72073|\n",
      "|RESIDENTIAL YARD ...|  69613|\n",
      "|CHA PARKING LOT/G...|  55468|\n",
      "|       PARK PROPERTY|  52346|\n",
      "|COMMERCIAL / BUSI...|  49161|\n",
      "+--------------------+-------+\n",
      "only showing top 20 rows\n",
      "\n"
     ]
    }
   ],
   "source": [
    "df_desc = df.select('Location Description').groupBy('Location Description').count().orderBy('count', ascending=False).na.drop()\n",
    "df_desc.show()"
   ]
  },
  {
   "cell_type": "code",
   "execution_count": 126,
   "metadata": {},
   "outputs": [
    {
     "name": "stdout",
     "output_type": "stream",
     "text": [
      "42.022910333\n",
      "36.619446395\n",
      "-87.524529378\n",
      "-91.686565684\n"
     ]
    }
   ],
   "source": [
    "max_lat = df.select('Latitude').orderBy('Latitude', ascending=False).na.drop().head()[0]\n",
    "min_lat = df.select('Latitude').orderBy('Latitude', ascending=True).na.drop().head()[0]\n",
    "print(max_lat)\n",
    "print(min_lat)\n",
    "max_lon = df.select('Longitude').orderBy('Longitude', ascending=False).na.drop().head()[0]\n",
    "min_lon = df.select('Longitude').orderBy('Longitude', ascending=True).na.drop().head()[0]\n",
    "print(max_lon)\n",
    "print(min_lon)"
   ]
  },
  {
   "cell_type": "code",
   "execution_count": 181,
   "metadata": {},
   "outputs": [
    {
     "data": {
      "text/plain": [
       "12"
      ]
     },
     "execution_count": 181,
     "metadata": {},
     "output_type": "execute_result"
    }
   ],
   "source": [
    "df.rdd.getNumPartitions()"
   ]
  },
  {
   "cell_type": "code",
   "execution_count": 182,
   "metadata": {},
   "outputs": [],
   "source": [
    "df.repartition(6).createOrReplaceTempView('sql_df')"
   ]
  },
  {
   "cell_type": "code",
   "execution_count": 191,
   "metadata": {},
   "outputs": [
    {
     "name": "stdout",
     "output_type": "stream",
     "text": [
      "6754279\n",
      "Time to Count: 5.345162611003616\n"
     ]
    }
   ],
   "source": [
    "# before cache - do count \n",
    "import timeit\n",
    "start_time = timeit.default_timer()\n",
    "print(df.count())\n",
    "elapsed = timeit.default_timer() - start_time\n",
    "print('Time to Count: ' + str(elapsed))"
   ]
  },
  {
   "cell_type": "code",
   "execution_count": 185,
   "metadata": {},
   "outputs": [],
   "source": [
    "df.rdd.getNumPartitions()\n",
    "df.repartition(6).createOrReplaceTempView('sql_df')\n",
    "spark.catalog.cacheTable('sql_df')"
   ]
  },
  {
   "cell_type": "code",
   "execution_count": 186,
   "metadata": {},
   "outputs": [
    {
     "name": "stdout",
     "output_type": "stream",
     "text": [
      "Time to Count: 98.62464690100023\n"
     ]
    }
   ],
   "source": [
    "# next count will initiate cache and will take much longer\n",
    "import timeit\n",
    "start_time = timeit.default_timer()\n",
    "spark.table('sql_df').count()\n",
    "elapsed = timeit.default_timer() - start_time\n",
    "print('Time to Count: ' + str(elapsed))"
   ]
  },
  {
   "cell_type": "code",
   "execution_count": 187,
   "metadata": {},
   "outputs": [],
   "source": [
    "# now create a dataframe that will operate on the cached version\n",
    "df_cache = spark.table(\"sql_df\")"
   ]
  },
  {
   "cell_type": "code",
   "execution_count": 192,
   "metadata": {},
   "outputs": [
    {
     "name": "stdout",
     "output_type": "stream",
     "text": [
      "6754279\n",
      "Time to Count: 1.6543181590022868\n"
     ]
    }
   ],
   "source": [
    "# way quicker: 5x improvement on cached dataframe!!!!\n",
    "import timeit\n",
    "start_time = timeit.default_timer()\n",
    "print(df_cache.count())\n",
    "elapsed = timeit.default_timer() - start_time\n",
    "print('Time to Count: ' + str(elapsed))"
   ]
  },
  {
   "cell_type": "code",
   "execution_count": 194,
   "metadata": {},
   "outputs": [
    {
     "data": {
      "text/plain": [
       "True"
      ]
     },
     "execution_count": 194,
     "metadata": {},
     "output_type": "execute_result"
    }
   ],
   "source": [
    "# check is table is cached\n",
    "spark.catalog.isCached(\"sql_df\")"
   ]
  },
  {
   "cell_type": "code",
   "execution_count": 195,
   "metadata": {},
   "outputs": [
    {
     "ename": "AnalysisException",
     "evalue": "'Attribute name \"Case Number\" contains invalid character(s) among \" ,;{}()\\\\n\\\\t=\". Please use alias to rename it.;'",
     "output_type": "error",
     "traceback": [
      "\u001b[0;31m---------------------------------------------------------------------------\u001b[0m",
      "\u001b[0;31mPy4JJavaError\u001b[0m                             Traceback (most recent call last)",
      "\u001b[0;32m~/Documents/GitHub/nv/lib/python3.7/site-packages/pyspark/sql/utils.py\u001b[0m in \u001b[0;36mdeco\u001b[0;34m(*a, **kw)\u001b[0m\n\u001b[1;32m     62\u001b[0m         \u001b[0;32mtry\u001b[0m\u001b[0;34m:\u001b[0m\u001b[0;34m\u001b[0m\u001b[0;34m\u001b[0m\u001b[0m\n\u001b[0;32m---> 63\u001b[0;31m             \u001b[0;32mreturn\u001b[0m \u001b[0mf\u001b[0m\u001b[0;34m(\u001b[0m\u001b[0;34m*\u001b[0m\u001b[0ma\u001b[0m\u001b[0;34m,\u001b[0m \u001b[0;34m**\u001b[0m\u001b[0mkw\u001b[0m\u001b[0;34m)\u001b[0m\u001b[0;34m\u001b[0m\u001b[0;34m\u001b[0m\u001b[0m\n\u001b[0m\u001b[1;32m     64\u001b[0m         \u001b[0;32mexcept\u001b[0m \u001b[0mpy4j\u001b[0m\u001b[0;34m.\u001b[0m\u001b[0mprotocol\u001b[0m\u001b[0;34m.\u001b[0m\u001b[0mPy4JJavaError\u001b[0m \u001b[0;32mas\u001b[0m \u001b[0me\u001b[0m\u001b[0;34m:\u001b[0m\u001b[0;34m\u001b[0m\u001b[0;34m\u001b[0m\u001b[0m\n",
      "\u001b[0;32m~/Documents/GitHub/nv/lib/python3.7/site-packages/py4j/protocol.py\u001b[0m in \u001b[0;36mget_return_value\u001b[0;34m(answer, gateway_client, target_id, name)\u001b[0m\n\u001b[1;32m    327\u001b[0m                     \u001b[0;34m\"An error occurred while calling {0}{1}{2}.\\n\"\u001b[0m\u001b[0;34m.\u001b[0m\u001b[0;34m\u001b[0m\u001b[0;34m\u001b[0m\u001b[0m\n\u001b[0;32m--> 328\u001b[0;31m                     format(target_id, \".\", name), value)\n\u001b[0m\u001b[1;32m    329\u001b[0m             \u001b[0;32melse\u001b[0m\u001b[0;34m:\u001b[0m\u001b[0;34m\u001b[0m\u001b[0;34m\u001b[0m\u001b[0m\n",
      "\u001b[0;31mPy4JJavaError\u001b[0m: An error occurred while calling o4275.save.\n: org.apache.spark.sql.AnalysisException: Attribute name \"Case Number\" contains invalid character(s) among \" ,;{}()\\n\\t=\". Please use alias to rename it.;\n\tat org.apache.spark.sql.execution.datasources.parquet.ParquetSchemaConverter$.checkConversionRequirement(ParquetSchemaConverter.scala:583)\n\tat org.apache.spark.sql.execution.datasources.parquet.ParquetSchemaConverter$.checkFieldName(ParquetSchemaConverter.scala:570)\n\tat org.apache.spark.sql.execution.datasources.parquet.ParquetWriteSupport$$anonfun$setSchema$2.apply(ParquetWriteSupport.scala:444)\n\tat org.apache.spark.sql.execution.datasources.parquet.ParquetWriteSupport$$anonfun$setSchema$2.apply(ParquetWriteSupport.scala:444)\n\tat scala.collection.immutable.List.foreach(List.scala:392)\n\tat org.apache.spark.sql.execution.datasources.parquet.ParquetWriteSupport$.setSchema(ParquetWriteSupport.scala:444)\n\tat org.apache.spark.sql.execution.datasources.parquet.ParquetFileFormat.prepareWrite(ParquetFileFormat.scala:111)\n\tat org.apache.spark.sql.execution.datasources.FileFormatWriter$.write(FileFormatWriter.scala:103)\n\tat org.apache.spark.sql.execution.datasources.InsertIntoHadoopFsRelationCommand.run(InsertIntoHadoopFsRelationCommand.scala:159)\n\tat org.apache.spark.sql.execution.command.DataWritingCommandExec.sideEffectResult$lzycompute(commands.scala:104)\n\tat org.apache.spark.sql.execution.command.DataWritingCommandExec.sideEffectResult(commands.scala:102)\n\tat org.apache.spark.sql.execution.command.DataWritingCommandExec.doExecute(commands.scala:122)\n\tat org.apache.spark.sql.execution.SparkPlan$$anonfun$execute$1.apply(SparkPlan.scala:131)\n\tat org.apache.spark.sql.execution.SparkPlan$$anonfun$execute$1.apply(SparkPlan.scala:127)\n\tat org.apache.spark.sql.execution.SparkPlan$$anonfun$executeQuery$1.apply(SparkPlan.scala:155)\n\tat org.apache.spark.rdd.RDDOperationScope$.withScope(RDDOperationScope.scala:151)\n\tat org.apache.spark.sql.execution.SparkPlan.executeQuery(SparkPlan.scala:152)\n\tat org.apache.spark.sql.execution.SparkPlan.execute(SparkPlan.scala:127)\n\tat org.apache.spark.sql.execution.QueryExecution.toRdd$lzycompute(QueryExecution.scala:80)\n\tat org.apache.spark.sql.execution.QueryExecution.toRdd(QueryExecution.scala:80)\n\tat org.apache.spark.sql.DataFrameWriter$$anonfun$runCommand$1.apply(DataFrameWriter.scala:668)\n\tat org.apache.spark.sql.DataFrameWriter$$anonfun$runCommand$1.apply(DataFrameWriter.scala:668)\n\tat org.apache.spark.sql.execution.SQLExecution$$anonfun$withNewExecutionId$1.apply(SQLExecution.scala:78)\n\tat org.apache.spark.sql.execution.SQLExecution$.withSQLConfPropagated(SQLExecution.scala:125)\n\tat org.apache.spark.sql.execution.SQLExecution$.withNewExecutionId(SQLExecution.scala:73)\n\tat org.apache.spark.sql.DataFrameWriter.runCommand(DataFrameWriter.scala:668)\n\tat org.apache.spark.sql.DataFrameWriter.saveToV1Source(DataFrameWriter.scala:276)\n\tat org.apache.spark.sql.DataFrameWriter.save(DataFrameWriter.scala:270)\n\tat org.apache.spark.sql.DataFrameWriter.save(DataFrameWriter.scala:228)\n\tat sun.reflect.NativeMethodAccessorImpl.invoke0(Native Method)\n\tat sun.reflect.NativeMethodAccessorImpl.invoke(NativeMethodAccessorImpl.java:62)\n\tat sun.reflect.DelegatingMethodAccessorImpl.invoke(DelegatingMethodAccessorImpl.java:43)\n\tat java.lang.reflect.Method.invoke(Method.java:498)\n\tat py4j.reflection.MethodInvoker.invoke(MethodInvoker.java:244)\n\tat py4j.reflection.ReflectionEngine.invoke(ReflectionEngine.java:357)\n\tat py4j.Gateway.invoke(Gateway.java:282)\n\tat py4j.commands.AbstractCommand.invokeMethod(AbstractCommand.java:132)\n\tat py4j.commands.CallCommand.execute(CallCommand.java:79)\n\tat py4j.GatewayConnection.run(GatewayConnection.java:238)\n\tat java.lang.Thread.run(Thread.java:748)\n",
      "\nDuring handling of the above exception, another exception occurred:\n",
      "\u001b[0;31mAnalysisException\u001b[0m                         Traceback (most recent call last)",
      "\u001b[0;32m<ipython-input-195-892a0f5496af>\u001b[0m in \u001b[0;36m<module>\u001b[0;34m\u001b[0m\n\u001b[1;32m      1\u001b[0m \u001b[0;31m# write out the dataframe\u001b[0m\u001b[0;34m\u001b[0m\u001b[0;34m\u001b[0m\u001b[0;34m\u001b[0m\u001b[0m\n\u001b[0;32m----> 2\u001b[0;31m \u001b[0mdf_cache\u001b[0m\u001b[0;34m.\u001b[0m\u001b[0mwrite\u001b[0m\u001b[0;34m.\u001b[0m\u001b[0mformat\u001b[0m\u001b[0;34m(\u001b[0m\u001b[0;34m'parquet'\u001b[0m\u001b[0;34m)\u001b[0m\u001b[0;34m.\u001b[0m\u001b[0msave\u001b[0m\u001b[0;34m(\u001b[0m\u001b[0;34m'tmp/df_cache/'\u001b[0m\u001b[0;34m)\u001b[0m\u001b[0;34m\u001b[0m\u001b[0;34m\u001b[0m\u001b[0m\n\u001b[0m",
      "\u001b[0;32m~/Documents/GitHub/nv/lib/python3.7/site-packages/pyspark/sql/readwriter.py\u001b[0m in \u001b[0;36msave\u001b[0;34m(self, path, format, mode, partitionBy, **options)\u001b[0m\n\u001b[1;32m    734\u001b[0m             \u001b[0mself\u001b[0m\u001b[0;34m.\u001b[0m\u001b[0m_jwrite\u001b[0m\u001b[0;34m.\u001b[0m\u001b[0msave\u001b[0m\u001b[0;34m(\u001b[0m\u001b[0;34m)\u001b[0m\u001b[0;34m\u001b[0m\u001b[0;34m\u001b[0m\u001b[0m\n\u001b[1;32m    735\u001b[0m         \u001b[0;32melse\u001b[0m\u001b[0;34m:\u001b[0m\u001b[0;34m\u001b[0m\u001b[0;34m\u001b[0m\u001b[0m\n\u001b[0;32m--> 736\u001b[0;31m             \u001b[0mself\u001b[0m\u001b[0;34m.\u001b[0m\u001b[0m_jwrite\u001b[0m\u001b[0;34m.\u001b[0m\u001b[0msave\u001b[0m\u001b[0;34m(\u001b[0m\u001b[0mpath\u001b[0m\u001b[0;34m)\u001b[0m\u001b[0;34m\u001b[0m\u001b[0;34m\u001b[0m\u001b[0m\n\u001b[0m\u001b[1;32m    737\u001b[0m \u001b[0;34m\u001b[0m\u001b[0m\n\u001b[1;32m    738\u001b[0m     \u001b[0;34m@\u001b[0m\u001b[0msince\u001b[0m\u001b[0;34m(\u001b[0m\u001b[0;36m1.4\u001b[0m\u001b[0;34m)\u001b[0m\u001b[0;34m\u001b[0m\u001b[0;34m\u001b[0m\u001b[0m\n",
      "\u001b[0;32m~/Documents/GitHub/nv/lib/python3.7/site-packages/py4j/java_gateway.py\u001b[0m in \u001b[0;36m__call__\u001b[0;34m(self, *args)\u001b[0m\n\u001b[1;32m   1255\u001b[0m         \u001b[0manswer\u001b[0m \u001b[0;34m=\u001b[0m \u001b[0mself\u001b[0m\u001b[0;34m.\u001b[0m\u001b[0mgateway_client\u001b[0m\u001b[0;34m.\u001b[0m\u001b[0msend_command\u001b[0m\u001b[0;34m(\u001b[0m\u001b[0mcommand\u001b[0m\u001b[0;34m)\u001b[0m\u001b[0;34m\u001b[0m\u001b[0;34m\u001b[0m\u001b[0m\n\u001b[1;32m   1256\u001b[0m         return_value = get_return_value(\n\u001b[0;32m-> 1257\u001b[0;31m             answer, self.gateway_client, self.target_id, self.name)\n\u001b[0m\u001b[1;32m   1258\u001b[0m \u001b[0;34m\u001b[0m\u001b[0m\n\u001b[1;32m   1259\u001b[0m         \u001b[0;32mfor\u001b[0m \u001b[0mtemp_arg\u001b[0m \u001b[0;32min\u001b[0m \u001b[0mtemp_args\u001b[0m\u001b[0;34m:\u001b[0m\u001b[0;34m\u001b[0m\u001b[0;34m\u001b[0m\u001b[0m\n",
      "\u001b[0;32m~/Documents/GitHub/nv/lib/python3.7/site-packages/pyspark/sql/utils.py\u001b[0m in \u001b[0;36mdeco\u001b[0;34m(*a, **kw)\u001b[0m\n\u001b[1;32m     67\u001b[0m                                              e.java_exception.getStackTrace()))\n\u001b[1;32m     68\u001b[0m             \u001b[0;32mif\u001b[0m \u001b[0ms\u001b[0m\u001b[0;34m.\u001b[0m\u001b[0mstartswith\u001b[0m\u001b[0;34m(\u001b[0m\u001b[0;34m'org.apache.spark.sql.AnalysisException: '\u001b[0m\u001b[0;34m)\u001b[0m\u001b[0;34m:\u001b[0m\u001b[0;34m\u001b[0m\u001b[0;34m\u001b[0m\u001b[0m\n\u001b[0;32m---> 69\u001b[0;31m                 \u001b[0;32mraise\u001b[0m \u001b[0mAnalysisException\u001b[0m\u001b[0;34m(\u001b[0m\u001b[0ms\u001b[0m\u001b[0;34m.\u001b[0m\u001b[0msplit\u001b[0m\u001b[0;34m(\u001b[0m\u001b[0;34m': '\u001b[0m\u001b[0;34m,\u001b[0m \u001b[0;36m1\u001b[0m\u001b[0;34m)\u001b[0m\u001b[0;34m[\u001b[0m\u001b[0;36m1\u001b[0m\u001b[0;34m]\u001b[0m\u001b[0;34m,\u001b[0m \u001b[0mstackTrace\u001b[0m\u001b[0;34m)\u001b[0m\u001b[0;34m\u001b[0m\u001b[0;34m\u001b[0m\u001b[0m\n\u001b[0m\u001b[1;32m     70\u001b[0m             \u001b[0;32mif\u001b[0m \u001b[0ms\u001b[0m\u001b[0;34m.\u001b[0m\u001b[0mstartswith\u001b[0m\u001b[0;34m(\u001b[0m\u001b[0;34m'org.apache.spark.sql.catalyst.analysis'\u001b[0m\u001b[0;34m)\u001b[0m\u001b[0;34m:\u001b[0m\u001b[0;34m\u001b[0m\u001b[0;34m\u001b[0m\u001b[0m\n\u001b[1;32m     71\u001b[0m                 \u001b[0;32mraise\u001b[0m \u001b[0mAnalysisException\u001b[0m\u001b[0;34m(\u001b[0m\u001b[0ms\u001b[0m\u001b[0;34m.\u001b[0m\u001b[0msplit\u001b[0m\u001b[0;34m(\u001b[0m\u001b[0;34m': '\u001b[0m\u001b[0;34m,\u001b[0m \u001b[0;36m1\u001b[0m\u001b[0;34m)\u001b[0m\u001b[0;34m[\u001b[0m\u001b[0;36m1\u001b[0m\u001b[0;34m]\u001b[0m\u001b[0;34m,\u001b[0m \u001b[0mstackTrace\u001b[0m\u001b[0;34m)\u001b[0m\u001b[0;34m\u001b[0m\u001b[0;34m\u001b[0m\u001b[0m\n",
      "\u001b[0;31mAnalysisException\u001b[0m: 'Attribute name \"Case Number\" contains invalid character(s) among \" ,;{}()\\\\n\\\\t=\". Please use alias to rename it.;'"
     ]
    }
   ],
   "source": [
    "# write out the dataframe\n",
    "# df_cache.write.format('parquet').save('tmp/df_cache/')\n",
    "# cant do that until we rename columns with spaces. \n",
    "\n",
    "# BUT THIS WRITE WILL PERSIST THE PARTITIONS AND STUFF"
   ]
  },
  {
   "cell_type": "code",
   "execution_count": null,
   "metadata": {},
   "outputs": [],
   "source": []
  }
 ],
 "metadata": {
  "kernelspec": {
   "display_name": "Python 3",
   "language": "python",
   "name": "python3"
  },
  "language_info": {
   "codemirror_mode": {
    "name": "ipython",
    "version": 3
   },
   "file_extension": ".py",
   "mimetype": "text/x-python",
   "name": "python",
   "nbconvert_exporter": "python",
   "pygments_lexer": "ipython3",
   "version": "3.7.1"
  }
 },
 "nbformat": 4,
 "nbformat_minor": 2
}
