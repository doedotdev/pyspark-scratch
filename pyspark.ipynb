{
 "cells": [
  {
   "cell_type": "code",
   "execution_count": 1,
   "metadata": {},
   "outputs": [
    {
     "name": "stdout",
     "output_type": "stream",
     "text": [
      "3.7.1\n"
     ]
    }
   ],
   "source": [
    "import platform\n",
    "print(platform.python_version())"
   ]
  },
  {
   "cell_type": "code",
   "execution_count": 2,
   "metadata": {},
   "outputs": [
    {
     "name": "stdout",
     "output_type": "stream",
     "text": [
      "2.4.0\n"
     ]
    }
   ],
   "source": [
    "from pyspark.sql import SparkSession, types\n",
    "from pyspark.sql.functions import to_timestamp, unix_timestamp, max as max_dttm\n",
    "from pyspark.sql.types import *\n",
    "spark = SparkSession.builder.appName('PySpark').getOrCreate()\n",
    "print(spark.version)"
   ]
  },
  {
   "cell_type": "code",
   "execution_count": 44,
   "metadata": {},
   "outputs": [
    {
     "name": "stdout",
     "output_type": "stream",
     "text": [
      "root\n",
      " |-- ID: integer (nullable = true)\n",
      " |-- Case Number: string (nullable = true)\n",
      " |-- Date: string (nullable = true)\n",
      " |-- Block: string (nullable = true)\n",
      " |-- IUCR: string (nullable = true)\n",
      " |-- Primary Type: string (nullable = true)\n",
      " |-- Description: string (nullable = true)\n",
      " |-- Location Description: string (nullable = true)\n",
      " |-- Arrest: boolean (nullable = true)\n",
      " |-- Domestic: boolean (nullable = true)\n",
      " |-- Beat: integer (nullable = true)\n",
      " |-- District: integer (nullable = true)\n",
      " |-- Ward: integer (nullable = true)\n",
      " |-- Community Area: integer (nullable = true)\n",
      " |-- FBI Code: string (nullable = true)\n",
      " |-- X Coordinate: integer (nullable = true)\n",
      " |-- Y Coordinate: integer (nullable = true)\n",
      " |-- Year: integer (nullable = true)\n",
      " |-- Updated On: string (nullable = true)\n",
      " |-- Latitude: double (nullable = true)\n",
      " |-- Longitude: double (nullable = true)\n",
      " |-- Location: string (nullable = true)\n",
      "\n"
     ]
    }
   ],
   "source": [
    "df = spark.read.csv('chicago_crimes_2001_to_present.csv', header=True, inferSchema=True)\n",
    "df.printSchema()"
   ]
  },
  {
   "cell_type": "code",
   "execution_count": 45,
   "metadata": {},
   "outputs": [
    {
     "name": "stdout",
     "output_type": "stream",
     "text": [
      "+--------+-----------+--------------------+--------------------+----+--------------------+--------------------+--------------------+------+--------+----+--------+----+--------------+--------+------------+------------+----+--------------------+------------+-------------+--------------------+-------------------+---------+---------+----------+-----+----------+\n",
      "|      ID|Case Number|                Date|               Block|IUCR|        Primary Type|         Description|Location Description|Arrest|Domestic|Beat|District|Ward|Community Area|FBI Code|X Coordinate|Y Coordinate|year|          Updated On|    Latitude|    Longitude|            Location|               dttm|dayofweek|dayofyear|weekofyear|month|dayofmonth|\n",
      "+--------+-----------+--------------------+--------------------+----+--------------------+--------------------+--------------------+------+--------+----+--------+----+--------------+--------+------------+------------+----+--------------------+------------+-------------+--------------------+-------------------+---------+---------+----------+-----+----------+\n",
      "|10000092|   HY189866|03/18/2015 07:44:...|     047XX W OHIO ST|041A|             BATTERY| AGGRAVATED: HANDGUN|              STREET| false|   false|1111|      11|  28|            25|     04B|     1144606|     1903566|2015|02/10/2018 03:50:...|41.891398861|-87.744384567|(41.891398861, -8...|2015-03-18 19:44:00|        4|       77|        12|    3|        18|\n",
      "|10000094|   HY190059|03/18/2015 11:00:...|066XX S MARSHFIEL...|4625|       OTHER OFFENSE|    PAROLE VIOLATION|              STREET|  true|   false| 725|       7|  15|            67|      26|     1166468|     1860715|2015|02/10/2018 03:50:...|41.773371528|-87.665319468|(41.773371528, -8...|2015-03-18 23:00:00|        4|       77|        12|    3|        18|\n",
      "|10000095|   HY190052|03/18/2015 10:45:...|044XX S LAKE PARK...|0486|             BATTERY|DOMESTIC BATTERY ...|           APARTMENT| false|    true| 222|       2|   4|            39|     08B|     1185075|     1875622|2015|02/10/2018 03:50:...| 41.81386068|-87.596642837|(41.81386068, -87...|2015-03-18 22:45:00|        4|       77|        12|    3|        18|\n",
      "|10000096|   HY190054|03/18/2015 10:30:...|051XX S MICHIGAN AVE|0460|             BATTERY|              SIMPLE|           APARTMENT| false|   false| 225|       2|   3|            40|     08B|     1178033|     1870804|2015|02/10/2018 03:50:...|41.800802415|-87.622619343|(41.800802415, -8...|2015-03-18 22:30:00|        4|       77|        12|    3|        18|\n",
      "|10000097|   HY189976|03/18/2015 09:00:...|    047XX W ADAMS ST|031A|             ROBBERY|      ARMED: HANDGUN|            SIDEWALK| false|   false|1113|      11|  28|            25|      03|     1144920|     1898709|2015|02/10/2018 03:50:...|41.878064761|-87.743354013|(41.878064761, -8...|2015-03-18 21:00:00|        4|       77|        12|    3|        18|\n",
      "|10000098|   HY190032|03/18/2015 10:00:...| 049XX S DREXEL BLVD|0460|             BATTERY|              SIMPLE|           APARTMENT| false|   false| 223|       2|   4|            39|     08B|     1183018|     1872537|2015|02/10/2018 03:50:...|41.805443345|-87.604283976|(41.805443345, -8...|2015-03-18 22:00:00|        4|       77|        12|    3|        18|\n",
      "|10000099|   HY190047|03/18/2015 11:00:...|   070XX S MORGAN ST|0486|             BATTERY|DOMESTIC BATTERY ...|           APARTMENT| false|    true| 733|       7|  17|            68|     08B|     1170859|     1858210|2015|02/10/2018 03:50:...|41.766402779|-87.649296123|(41.766402779, -8...|2015-03-18 23:00:00|        4|       77|        12|    3|        18|\n",
      "|10000100|   HY189988|03/18/2015 09:35:...| 042XX S PRAIRIE AVE|0486|             BATTERY|DOMESTIC BATTERY ...|           APARTMENT| false|    true| 213|       2|   3|            38|     08B|     1178746|     1876914|2015|02/10/2018 03:50:...|41.817552577|-87.619818523|(41.817552577, -8...|2015-03-18 21:35:00|        4|       77|        12|    3|        18|\n",
      "|10000101|   HY190020|03/18/2015 10:09:...| 036XX S WOLCOTT AVE|1811|           NARCOTICS|POSS: CANNABIS 30...|              STREET|  true|   false| 912|       9|  11|            59|      18|     1164279|     1880656|2015|02/10/2018 03:50:...|41.828138428|-87.672782106|(41.828138428, -8...|2015-03-18 22:09:00|        4|       77|        12|    3|        18|\n",
      "|10000104|   HY189964|03/18/2015 09:25:...| 097XX S PRAIRIE AVE|0460|             BATTERY|              SIMPLE|RESIDENCE PORCH/H...| false|   false| 511|       5|   6|            49|     08B|     1179637|     1840444|2015|02/10/2018 03:50:...| 41.71745472|-87.617663257|(41.71745472, -87...|2015-03-18 21:25:00|        4|       77|        12|    3|        18|\n",
      "|10000105|   HY189984|03/18/2015 09:30:...|130XX S DR MARTIN...|1320|     CRIMINAL DAMAGE|          TO VEHICLE|PARKING LOT/GARAG...| false|   false| 533|       5|   9|            54|      14|     1180907|     1818839|2015|02/10/2018 03:50:...|41.658138493|-87.613672862|(41.658138493, -8...|2015-03-18 21:30:00|        4|       77|        12|    3|        18|\n",
      "|10000108|   HY189719|03/15/2015 04:10:...|078XX S VINCENNES...|2825|       OTHER OFFENSE|HARASSMENT BY TEL...|CTA GARAGE / OTHE...| false|    true| 623|       6|  17|            69|      26|     1175130|     1853144|2015|02/10/2018 03:50:...|41.752406801|-87.633792381|(41.752406801, -8...|2015-03-15 16:10:00|        1|       74|        11|    3|        15|\n",
      "|10000109|   HY189966|03/18/2015 09:14:...|086XX S EXCHANGE AVE|143A|   WEAPONS VIOLATION|UNLAWFUL POSS OF ...|DRIVEWAY - RESIDE...|  true|   false| 423|       4|  10|            46|      15|     1197309|     1848290|2015|02/10/2018 03:50:...|41.738563465|-87.552678593|(41.738563465, -8...|2015-03-18 21:14:00|        4|       77|        12|    3|        18|\n",
      "|10000110|   HY190056|03/18/2015 10:50:...| 014XX S ASHLAND AVE|0460|             BATTERY|              SIMPLE|            SIDEWALK| false|   false|1233|      12|   2|            28|     08B|     1165950|     1893388|2015|02/10/2018 03:50:...| 41.86304084|-87.666288555|(41.86304084, -87...|2015-03-18 22:50:00|        4|       77|        12|    3|        18|\n",
      "|10000111|   HY190019|03/18/2015 10:31:...| 051XX W CHICAGO AVE|0860|               THEFT|        RETAIL THEFT|         GAS STATION|  true|   false|1531|      15|  37|            25|      06|     1141741|     1904839|2015|02/10/2018 03:50:...|41.894945606|-87.754874977|(41.894945606, -8...|2015-03-18 22:31:00|        4|       77|        12|    3|        18|\n",
      "|10000112|   HY189725|03/18/2015 12:55:...|077XX S KINGSTON AVE|0610|            BURGLARY|      FORCIBLE ENTRY|           APARTMENT| false|   false| 421|       4|   7|            43|      05|     1194535|     1854110|2015|02/10/2018 03:50:...|41.754602618|-87.562650741|(41.754602618, -8...|2015-03-18 12:55:00|        4|       77|        12|    3|        18|\n",
      "|10000114|   HY190071|03/18/2015 08:00:...|   024XX W NORTH AVE|0910| MOTOR VEHICLE THEFT|          AUTOMOBILE|               OTHER| false|   false|1423|      14|   1|            24|      07|     1159959|     1910569|2015|02/10/2018 03:50:...|41.910312648|-87.687806494|(41.910312648, -8...|2015-03-18 20:00:00|        4|       77|        12|    3|        18|\n",
      "|10000115|   HY190036|03/18/2015 09:00:...| 069XX S LOOMIS BLVD|0890|               THEFT|       FROM BUILDING|  GROCERY FOOD STORE| false|   false| 734|       7|  17|            67|      06|     1168192|     1858832|2015|02/10/2018 03:50:...|41.768167414|-87.659053795|(41.768167414, -8...|2015-03-18 21:00:00|        4|       77|        12|    3|        18|\n",
      "|10000116|   HY190063|03/18/2015 10:56:...|105XX S LAFAYETTE...|0470|PUBLIC PEACE VIOL...|    RECKLESS CONDUCT|               ALLEY|  true|   false| 512|       5|  34|            49|      24|     1177790|     1835106|2015|02/10/2018 03:50:...| 41.70284845|-87.624588931|(41.70284845, -87...|2015-03-18 22:56:00|        4|       77|        12|    3|        18|\n",
      "|10000117|   HY190068|03/18/2015 10:45:...| 087XX S KIMBARK AVE|0890|               THEFT|       FROM BUILDING|       BAR OR TAVERN| false|   false| 412|       4|   8|            48|      06|     1186312|     1847473|2015|02/10/2018 03:50:...|41.736588206| -87.59299436|(41.736588206, -8...|2015-03-18 22:45:00|        4|       77|        12|    3|        18|\n",
      "+--------+-----------+--------------------+--------------------+----+--------------------+--------------------+--------------------+------+--------+----+--------+----+--------------+--------+------------+------------+----+--------------------+------------+-------------+--------------------+-------------------+---------+---------+----------+-----+----------+\n",
      "only showing top 20 rows\n",
      "\n"
     ]
    }
   ],
   "source": [
    "from pyspark.sql.functions import year, month, dayofweek, dayofyear, dayofmonth, weekofyear\n",
    "df = df.withColumn('dttm', unix_timestamp('Date', \"MM/dd/yyyy hh:mm:ss aa\").cast(TimestampType()))\n",
    "# df = df.withColumn('dayofweek', dayofweek('dttm')).withColumn('dayofyear', dayofyear('dttm'))\n",
    "# df = df.withColumn('year', year('dttm'))\n",
    "# df = df.withColumn('weekofyear', weekofyear('dttm'))\n",
    "# df = df.withColumn('month', month('dttm'))\n",
    "# df = df.withColumn('dayofmonth', dayofmonth('dttm'))\n",
    "df.show()\n"
   ]
  },
  {
   "cell_type": "code",
   "execution_count": 46,
   "metadata": {},
   "outputs": [
    {
     "name": "stdout",
     "output_type": "stream",
     "text": [
      "Total Entries: 6754279\n"
     ]
    }
   ],
   "source": [
    "total_entries = df.count()\n",
    "print('Total Entries: ' + str(total_entries))"
   ]
  },
  {
   "cell_type": "code",
   "execution_count": 9,
   "metadata": {},
   "outputs": [
    {
     "name": "stdout",
     "output_type": "stream",
     "text": [
      "First Date: 2001-01-01 00:00:00\n",
      "Last Date: 2018-11-22 23:56:00\n",
      "Total Entries: 6754279\n"
     ]
    }
   ],
   "source": [
    "first_date = df.agg({\"dttm\":\"min\"}).collect()[0][0]\n",
    "print('First Date: ' + str(first_date))\n",
    "\n",
    "last_date = df.agg({\"dttm\":\"max\"}).collect()[0][0]\n",
    "print('Last Date: ' + str(last_date))"
   ]
  },
  {
   "cell_type": "code",
   "execution_count": 35,
   "metadata": {},
   "outputs": [
    {
     "name": "stdout",
     "output_type": "stream",
     "text": [
      "+----------+--------------------------+\n",
      "|year(dttm)|count(DISTINCT year(dttm))|\n",
      "+----------+--------------------------+\n",
      "|      2003|                         1|\n",
      "|      2007|                         1|\n",
      "|      2018|                         1|\n",
      "|      2015|                         1|\n",
      "|      2006|                         1|\n",
      "|      2013|                         1|\n",
      "|      2014|                         1|\n",
      "|      2004|                         1|\n",
      "|      2012|                         1|\n",
      "|      2009|                         1|\n",
      "|      2016|                         1|\n",
      "|      2001|                         1|\n",
      "|      2005|                         1|\n",
      "|      2010|                         1|\n",
      "|      2011|                         1|\n",
      "|      2008|                         1|\n",
      "|      2017|                         1|\n",
      "|      2002|                         1|\n",
      "+----------+--------------------------+\n",
      "\n",
      "18\n",
      "xx\n",
      "+----------+------+\n",
      "|year(dttm)| count|\n",
      "+----------+------+\n",
      "|      2003|475923|\n",
      "|      2007|436986|\n",
      "|      2018|237148|\n",
      "|      2015|263930|\n",
      "|      2006|448078|\n",
      "|      2013|307020|\n",
      "|      null|   247|\n",
      "|      2014|275196|\n",
      "|      2004|469366|\n",
      "|      2012|335908|\n",
      "|      2009|392649|\n",
      "|      2016|268814|\n",
      "|      2001|485738|\n",
      "|      2005|453686|\n",
      "|      2010|370277|\n",
      "|      2011|351736|\n",
      "|      2008|427024|\n",
      "|      2017|267811|\n",
      "|      2002|486742|\n",
      "+----------+------+\n",
      "\n",
      "None\n",
      "yy\n",
      "+--------------------------+\n",
      "|count(DISTINCT year(dttm))|\n",
      "+--------------------------+\n",
      "|                        18|\n",
      "+--------------------------+\n",
      "\n",
      "18\n",
      "mm\n",
      "+---------------------------+\n",
      "|count(DISTINCT month(dttm))|\n",
      "+---------------------------+\n",
      "|                         12|\n",
      "+---------------------------+\n",
      "\n",
      "12\n",
      "dd\n",
      "+--------------------------------+\n",
      "|count(DISTINCT dayofmonth(dttm))|\n",
      "+--------------------------------+\n",
      "|                              31|\n",
      "+--------------------------------+\n",
      "\n",
      "31\n"
     ]
    }
   ],
   "source": [
    "from pyspark.sql.functions import year, month, dayofweek, dayofyear, dayofmonth\n",
    "# total_years = df.select(year('dttm').alias('distinct_years')).groupBy('distinct_years').count()\n",
    "# total_years.show()\n",
    "\n",
    "from pyspark.sql.functions import col, countDistinct\n",
    "# df.agg(countDistinct(col(year(\"dttm\"))).alias(\"count\")).show()\n",
    "\n",
    "gr = df.groupBy(year('dttm')).agg(countDistinct(year('dttm'))).na.drop()\n",
    "gr.show()\n",
    "print(gr.count())\n",
    "print('xx')\n",
    "gr = df.groupBy(year('dttm')).count().show()\n",
    "print(gr)\n",
    "print('yy')\n",
    "gr = df.agg(countDistinct(year('dttm')))\n",
    "gr.show()\n",
    "print(gr.collect()[0][0])\n",
    "\n",
    "print('mm')\n",
    "gr = df.agg(countDistinct(month('dttm')))\n",
    "gr.show()\n",
    "print(gr.collect()[0][0])\n",
    "\n",
    "\n",
    "print('dd')\n",
    "gr = df.agg(countDistinct(dayofmonth('dttm')))\n",
    "gr.show()\n",
    "print(gr.collect()[0][0])\n",
    "\n",
    "# gr = df.agg(countDistinct(month('dttm'))).show()\n",
    "# print(gr.collect()[0][0])\n",
    "\n",
    "# gr = df.agg(countDistinct(dayofmonth('dttm'))).show()\n",
    "# print(gr.collect()[0][0])\n"
   ]
  },
  {
   "cell_type": "code",
   "execution_count": 22,
   "metadata": {},
   "outputs": [
    {
     "name": "stdout",
     "output_type": "stream",
     "text": [
      "+----+------+\n",
      "|year| count|\n",
      "+----+------+\n",
      "|null|   247|\n",
      "|2001|485738|\n",
      "|2002|486742|\n",
      "|2003|475923|\n",
      "|2004|469366|\n",
      "|2005|453686|\n",
      "|2006|448078|\n",
      "|2007|436986|\n",
      "|2008|427024|\n",
      "|2009|392649|\n",
      "|2010|370277|\n",
      "|2011|351736|\n",
      "|2012|335908|\n",
      "|2013|307020|\n",
      "|2014|275196|\n",
      "|2015|263930|\n",
      "|2016|268814|\n",
      "|2017|267811|\n",
      "|2018|237148|\n",
      "+----+------+\n",
      "\n"
     ]
    }
   ],
   "source": [
    "from pyspark.sql.functions import year\n",
    "year_general = df.select(year('dttm').alias('year')).groupBy('year').count().orderBy('year')\n",
    "year_general.show()\n",
    "# year_general_max = year_general.agg({\"year\":\"max\"}).collect()[0][0]\n",
    "# print(year_general_max)\n",
    "# year_general.filter(year_general['count'] == year_general_max).show()\n",
    "# print(year_general.agg({\"year\":\"min\"}).collect()[0][0])\n",
    "# print(year_general.agg({\"year\":\"avg\"}).collect()[0][0])"
   ]
  },
  {
   "cell_type": "code",
   "execution_count": 7,
   "metadata": {},
   "outputs": [
    {
     "name": "stdout",
     "output_type": "stream",
     "text": [
      "2002: 486742\n"
     ]
    }
   ],
   "source": [
    "max_value = year_general.agg({\"count\":\"max\"}).collect()[0][0]\n",
    "max_year = year_general.filter(year_general['count'] == max_value).collect()[0][0]\n",
    "print(str(max_year) + \": \" + str(max_value))"
   ]
  },
  {
   "cell_type": "code",
   "execution_count": null,
   "metadata": {},
   "outputs": [],
   "source": []
  }
 ],
 "metadata": {
  "kernelspec": {
   "display_name": "Python 3",
   "language": "python",
   "name": "python3"
  },
  "language_info": {
   "codemirror_mode": {
    "name": "ipython",
    "version": 3
   },
   "file_extension": ".py",
   "mimetype": "text/x-python",
   "name": "python",
   "nbconvert_exporter": "python",
   "pygments_lexer": "ipython3",
   "version": "3.7.1"
  }
 },
 "nbformat": 4,
 "nbformat_minor": 2
}
