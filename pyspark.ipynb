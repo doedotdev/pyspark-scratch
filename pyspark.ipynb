{
 "cells": [
  {
   "cell_type": "code",
   "execution_count": 1,
   "metadata": {},
   "outputs": [
    {
     "name": "stdout",
     "output_type": "stream",
     "text": [
      "3.7.1\n"
     ]
    }
   ],
   "source": [
    "import platform\n",
    "print(platform.python_version())"
   ]
  },
  {
   "cell_type": "code",
   "execution_count": 2,
   "metadata": {},
   "outputs": [
    {
     "name": "stdout",
     "output_type": "stream",
     "text": [
      "2.4.0\n"
     ]
    }
   ],
   "source": [
    "from pyspark.sql import SparkSession, types\n",
    "from pyspark.sql.functions import to_timestamp, unix_timestamp, max as max_dttm\n",
    "from pyspark.sql.types import *\n",
    "spark = SparkSession.builder.appName('PySpark').getOrCreate()\n",
    "print(spark.version)"
   ]
  },
  {
   "cell_type": "code",
   "execution_count": 3,
   "metadata": {},
   "outputs": [
    {
     "name": "stdout",
     "output_type": "stream",
     "text": [
      "root\n",
      " |-- ID: integer (nullable = true)\n",
      " |-- Case Number: string (nullable = true)\n",
      " |-- Date: string (nullable = true)\n",
      " |-- Block: string (nullable = true)\n",
      " |-- IUCR: string (nullable = true)\n",
      " |-- Primary Type: string (nullable = true)\n",
      " |-- Description: string (nullable = true)\n",
      " |-- Location Description: string (nullable = true)\n",
      " |-- Arrest: boolean (nullable = true)\n",
      " |-- Domestic: boolean (nullable = true)\n",
      " |-- Beat: integer (nullable = true)\n",
      " |-- District: integer (nullable = true)\n",
      " |-- Ward: integer (nullable = true)\n",
      " |-- Community Area: integer (nullable = true)\n",
      " |-- FBI Code: string (nullable = true)\n",
      " |-- X Coordinate: integer (nullable = true)\n",
      " |-- Y Coordinate: integer (nullable = true)\n",
      " |-- Year: integer (nullable = true)\n",
      " |-- Updated On: string (nullable = true)\n",
      " |-- Latitude: double (nullable = true)\n",
      " |-- Longitude: double (nullable = true)\n",
      " |-- Location: string (nullable = true)\n",
      "\n"
     ]
    }
   ],
   "source": [
    "df = spark.read.csv('chicago_crimes_2001_to_present.csv', header=True, inferSchema=True)\n",
    "df.printSchema()"
   ]
  },
  {
   "cell_type": "code",
   "execution_count": 4,
   "metadata": {},
   "outputs": [
    {
     "name": "stdout",
     "output_type": "stream",
     "text": [
      "+--------+-----------+--------------------+--------------------+----+--------------------+--------------------+--------------------+------+--------+----+--------+----+--------------+--------+------------+------------+----+--------------------+------------+-------------+--------------------+-------------------+\n",
      "|      ID|Case Number|                Date|               Block|IUCR|        Primary Type|         Description|Location Description|Arrest|Domestic|Beat|District|Ward|Community Area|FBI Code|X Coordinate|Y Coordinate|Year|          Updated On|    Latitude|    Longitude|            Location|               dttm|\n",
      "+--------+-----------+--------------------+--------------------+----+--------------------+--------------------+--------------------+------+--------+----+--------+----+--------------+--------+------------+------------+----+--------------------+------------+-------------+--------------------+-------------------+\n",
      "|10000092|   HY189866|03/18/2015 07:44:...|     047XX W OHIO ST|041A|             BATTERY| AGGRAVATED: HANDGUN|              STREET| false|   false|1111|      11|  28|            25|     04B|     1144606|     1903566|2015|02/10/2018 03:50:...|41.891398861|-87.744384567|(41.891398861, -8...|2015-03-18 19:44:00|\n",
      "|10000094|   HY190059|03/18/2015 11:00:...|066XX S MARSHFIEL...|4625|       OTHER OFFENSE|    PAROLE VIOLATION|              STREET|  true|   false| 725|       7|  15|            67|      26|     1166468|     1860715|2015|02/10/2018 03:50:...|41.773371528|-87.665319468|(41.773371528, -8...|2015-03-18 23:00:00|\n",
      "|10000095|   HY190052|03/18/2015 10:45:...|044XX S LAKE PARK...|0486|             BATTERY|DOMESTIC BATTERY ...|           APARTMENT| false|    true| 222|       2|   4|            39|     08B|     1185075|     1875622|2015|02/10/2018 03:50:...| 41.81386068|-87.596642837|(41.81386068, -87...|2015-03-18 22:45:00|\n",
      "|10000096|   HY190054|03/18/2015 10:30:...|051XX S MICHIGAN AVE|0460|             BATTERY|              SIMPLE|           APARTMENT| false|   false| 225|       2|   3|            40|     08B|     1178033|     1870804|2015|02/10/2018 03:50:...|41.800802415|-87.622619343|(41.800802415, -8...|2015-03-18 22:30:00|\n",
      "|10000097|   HY189976|03/18/2015 09:00:...|    047XX W ADAMS ST|031A|             ROBBERY|      ARMED: HANDGUN|            SIDEWALK| false|   false|1113|      11|  28|            25|      03|     1144920|     1898709|2015|02/10/2018 03:50:...|41.878064761|-87.743354013|(41.878064761, -8...|2015-03-18 21:00:00|\n",
      "|10000098|   HY190032|03/18/2015 10:00:...| 049XX S DREXEL BLVD|0460|             BATTERY|              SIMPLE|           APARTMENT| false|   false| 223|       2|   4|            39|     08B|     1183018|     1872537|2015|02/10/2018 03:50:...|41.805443345|-87.604283976|(41.805443345, -8...|2015-03-18 22:00:00|\n",
      "|10000099|   HY190047|03/18/2015 11:00:...|   070XX S MORGAN ST|0486|             BATTERY|DOMESTIC BATTERY ...|           APARTMENT| false|    true| 733|       7|  17|            68|     08B|     1170859|     1858210|2015|02/10/2018 03:50:...|41.766402779|-87.649296123|(41.766402779, -8...|2015-03-18 23:00:00|\n",
      "|10000100|   HY189988|03/18/2015 09:35:...| 042XX S PRAIRIE AVE|0486|             BATTERY|DOMESTIC BATTERY ...|           APARTMENT| false|    true| 213|       2|   3|            38|     08B|     1178746|     1876914|2015|02/10/2018 03:50:...|41.817552577|-87.619818523|(41.817552577, -8...|2015-03-18 21:35:00|\n",
      "|10000101|   HY190020|03/18/2015 10:09:...| 036XX S WOLCOTT AVE|1811|           NARCOTICS|POSS: CANNABIS 30...|              STREET|  true|   false| 912|       9|  11|            59|      18|     1164279|     1880656|2015|02/10/2018 03:50:...|41.828138428|-87.672782106|(41.828138428, -8...|2015-03-18 22:09:00|\n",
      "|10000104|   HY189964|03/18/2015 09:25:...| 097XX S PRAIRIE AVE|0460|             BATTERY|              SIMPLE|RESIDENCE PORCH/H...| false|   false| 511|       5|   6|            49|     08B|     1179637|     1840444|2015|02/10/2018 03:50:...| 41.71745472|-87.617663257|(41.71745472, -87...|2015-03-18 21:25:00|\n",
      "|10000105|   HY189984|03/18/2015 09:30:...|130XX S DR MARTIN...|1320|     CRIMINAL DAMAGE|          TO VEHICLE|PARKING LOT/GARAG...| false|   false| 533|       5|   9|            54|      14|     1180907|     1818839|2015|02/10/2018 03:50:...|41.658138493|-87.613672862|(41.658138493, -8...|2015-03-18 21:30:00|\n",
      "|10000108|   HY189719|03/15/2015 04:10:...|078XX S VINCENNES...|2825|       OTHER OFFENSE|HARASSMENT BY TEL...|CTA GARAGE / OTHE...| false|    true| 623|       6|  17|            69|      26|     1175130|     1853144|2015|02/10/2018 03:50:...|41.752406801|-87.633792381|(41.752406801, -8...|2015-03-15 16:10:00|\n",
      "|10000109|   HY189966|03/18/2015 09:14:...|086XX S EXCHANGE AVE|143A|   WEAPONS VIOLATION|UNLAWFUL POSS OF ...|DRIVEWAY - RESIDE...|  true|   false| 423|       4|  10|            46|      15|     1197309|     1848290|2015|02/10/2018 03:50:...|41.738563465|-87.552678593|(41.738563465, -8...|2015-03-18 21:14:00|\n",
      "|10000110|   HY190056|03/18/2015 10:50:...| 014XX S ASHLAND AVE|0460|             BATTERY|              SIMPLE|            SIDEWALK| false|   false|1233|      12|   2|            28|     08B|     1165950|     1893388|2015|02/10/2018 03:50:...| 41.86304084|-87.666288555|(41.86304084, -87...|2015-03-18 22:50:00|\n",
      "|10000111|   HY190019|03/18/2015 10:31:...| 051XX W CHICAGO AVE|0860|               THEFT|        RETAIL THEFT|         GAS STATION|  true|   false|1531|      15|  37|            25|      06|     1141741|     1904839|2015|02/10/2018 03:50:...|41.894945606|-87.754874977|(41.894945606, -8...|2015-03-18 22:31:00|\n",
      "|10000112|   HY189725|03/18/2015 12:55:...|077XX S KINGSTON AVE|0610|            BURGLARY|      FORCIBLE ENTRY|           APARTMENT| false|   false| 421|       4|   7|            43|      05|     1194535|     1854110|2015|02/10/2018 03:50:...|41.754602618|-87.562650741|(41.754602618, -8...|2015-03-18 12:55:00|\n",
      "|10000114|   HY190071|03/18/2015 08:00:...|   024XX W NORTH AVE|0910| MOTOR VEHICLE THEFT|          AUTOMOBILE|               OTHER| false|   false|1423|      14|   1|            24|      07|     1159959|     1910569|2015|02/10/2018 03:50:...|41.910312648|-87.687806494|(41.910312648, -8...|2015-03-18 20:00:00|\n",
      "|10000115|   HY190036|03/18/2015 09:00:...| 069XX S LOOMIS BLVD|0890|               THEFT|       FROM BUILDING|  GROCERY FOOD STORE| false|   false| 734|       7|  17|            67|      06|     1168192|     1858832|2015|02/10/2018 03:50:...|41.768167414|-87.659053795|(41.768167414, -8...|2015-03-18 21:00:00|\n",
      "|10000116|   HY190063|03/18/2015 10:56:...|105XX S LAFAYETTE...|0470|PUBLIC PEACE VIOL...|    RECKLESS CONDUCT|               ALLEY|  true|   false| 512|       5|  34|            49|      24|     1177790|     1835106|2015|02/10/2018 03:50:...| 41.70284845|-87.624588931|(41.70284845, -87...|2015-03-18 22:56:00|\n",
      "|10000117|   HY190068|03/18/2015 10:45:...| 087XX S KIMBARK AVE|0890|               THEFT|       FROM BUILDING|       BAR OR TAVERN| false|   false| 412|       4|   8|            48|      06|     1186312|     1847473|2015|02/10/2018 03:50:...|41.736588206| -87.59299436|(41.736588206, -8...|2015-03-18 22:45:00|\n",
      "+--------+-----------+--------------------+--------------------+----+--------------------+--------------------+--------------------+------+--------+----+--------+----+--------------+--------+------------+------------+----+--------------------+------------+-------------+--------------------+-------------------+\n",
      "only showing top 20 rows\n",
      "\n"
     ]
    }
   ],
   "source": [
    "from pyspark.sql.functions import year, month, dayofweek, dayofyear, dayofmonth, weekofyear\n",
    "df = df.withColumn('dttm', unix_timestamp('Date', \"MM/dd/yyyy hh:mm:ss aa\").cast(TimestampType()))\n",
    "# df = df.withColumn('dayofweek', dayofweek('dttm')).withColumn('dayofyear', dayofyear('dttm'))\n",
    "# df = df.withColumn('year', year('dttm'))\n",
    "# df = df.withColumn('weekofyear', weekofyear('dttm'))\n",
    "# df = df.withColumn('month', month('dttm'))\n",
    "# df = df.withColumn('dayofmonth', dayofmonth('dttm'))\n",
    "df.show()\n"
   ]
  },
  {
   "cell_type": "code",
   "execution_count": 5,
   "metadata": {},
   "outputs": [
    {
     "name": "stdout",
     "output_type": "stream",
     "text": [
      "Total Entries: 6754279\n"
     ]
    }
   ],
   "source": [
    "total_entries = df.count()\n",
    "print('Total Entries: ' + str(total_entries))"
   ]
  },
  {
   "cell_type": "code",
   "execution_count": 6,
   "metadata": {},
   "outputs": [
    {
     "name": "stdout",
     "output_type": "stream",
     "text": [
      "First Date: 2001-01-01 00:00:00\n",
      "Last Date: 2018-11-22 23:56:00\n"
     ]
    }
   ],
   "source": [
    "first_date = df.agg({\"dttm\":\"min\"}).collect()[0][0]\n",
    "print('First Date: ' + str(first_date))\n",
    "\n",
    "last_date = df.agg({\"dttm\":\"max\"}).collect()[0][0]\n",
    "print('Last Date: ' + str(last_date))"
   ]
  },
  {
   "cell_type": "code",
   "execution_count": 33,
   "metadata": {},
   "outputs": [
    {
     "name": "stdout",
     "output_type": "stream",
     "text": [
      "Total Years: 18\n",
      "+----+------+\n",
      "|year| count|\n",
      "+----+------+\n",
      "|2001|485738|\n",
      "|2002|486742|\n",
      "|2003|475923|\n",
      "|2004|469366|\n",
      "|2005|453686|\n",
      "|2006|448078|\n",
      "|2007|436986|\n",
      "|2008|427024|\n",
      "|2009|392649|\n",
      "|2010|370277|\n",
      "|2011|351736|\n",
      "|2012|335908|\n",
      "|2013|307020|\n",
      "|2014|275196|\n",
      "|2015|263930|\n",
      "|2016|268814|\n",
      "|2017|267811|\n",
      "|2018|237148|\n",
      "+----+------+\n",
      "\n",
      "Total Years: 18\n"
     ]
    }
   ],
   "source": [
    "from pyspark.sql.functions import year, countDistinct\n",
    "\n",
    "# get total years from main data frame\n",
    "total_years = df.agg(countDistinct(year('dttm'))).na.drop().collect()[0][0]\n",
    "print('Total Years: ' + str(total_years))\n",
    "\n",
    "per_year = df.select(year('dttm').alias('year')).groupBy('year').count().orderBy('year').na.drop()\n",
    "per_year.show()\n",
    "\n",
    "# get total years if you pull out a seperate dataframe\n",
    "print('Total Years: ' + str(per_year.count()))\n"
   ]
  },
  {
   "cell_type": "code",
   "execution_count": 39,
   "metadata": {},
   "outputs": [
    {
     "name": "stdout",
     "output_type": "stream",
     "text": [
      "Max Year: 2002 | 486742\n",
      "Min Year: 2018 | 237148\n",
      "Time to get Max and min value: 76.90986901500037\n",
      "Avg Year: 375224.0\n"
     ]
    }
   ],
   "source": [
    "import timeit\n",
    "start_time = timeit.default_timer()\n",
    "\n",
    "max_year_value = per_year.agg({\"count\":\"max\"}).collect()[0][0]\n",
    "max_year = per_year.filter(per_year['count'] == max_year_value).select('year').collect()[0][0]\n",
    "print('Max Year: ' + str(max_year) + ' | ' + str(max_year_value))\n",
    "\n",
    "# min crimes in a year\n",
    "min_year_value = per_year.agg({\"count\":\"min\"}).collect()[0][0]\n",
    "min_year = per_year.filter(per_year['count'] == min_year_value).select('year').collect()[0][0]\n",
    "print('Min Year: ' + str(min_year) + ' | ' + str(min_year_value))\n",
    "\n",
    "elapsed = timeit.default_timer() - start_time\n",
    "print('Time to get Max and min value: ' + str(elapsed))\n",
    "\n",
    "# average crimes in a year\n",
    "avg_year_value = per_year.agg({\"count\":\"avg\"}).collect()[0][0]\n",
    "print('Avg Year: ' + str(avg_year_value))"
   ]
  },
  {
   "cell_type": "code",
   "execution_count": 40,
   "metadata": {},
   "outputs": [
    {
     "name": "stdout",
     "output_type": "stream",
     "text": [
      "Row(year=2001, count=485738)\n",
      "Row(year=2001, count=485738)\n",
      "Time to get Max and min value: 41.131759101999705\n"
     ]
    }
   ],
   "source": [
    "import timeit\n",
    "\n",
    "start_time = timeit.default_timer()\n",
    "# code you want to evaluate\n",
    "\n",
    "per_year = per_year.orderBy('count', ascending=False)\n",
    "max_value = per_year.head()\n",
    "print(max_value)\n",
    "\n",
    "per_year = per_year.orderBy('count', ascending=True)\n",
    "min_value = per_year.head()\n",
    "print(min_value)\n",
    "\n",
    "elapsed = timeit.default_timer() - start_time\n",
    "print('Time to get Max and min value: ' + str(elapsed))\n"
   ]
  },
  {
   "cell_type": "code",
   "execution_count": 118,
   "metadata": {},
   "outputs": [
    {
     "name": "stdout",
     "output_type": "stream",
     "text": [
      "Total Days: 6535\n",
      "+----------+-----+\n",
      "|YYYY/MM/DD|count|\n",
      "+----------+-----+\n",
      "|  2003/1/1| 2023|\n",
      "|  2005/1/1| 1961|\n",
      "|  2007/1/1| 1946|\n",
      "|  2006/1/1| 1901|\n",
      "|  2004/1/1| 1890|\n",
      "|  2002/1/1| 1854|\n",
      "|  2009/1/1| 1818|\n",
      "|  2001/1/1| 1815|\n",
      "|  2008/1/1| 1801|\n",
      "|  2002/6/1| 1782|\n",
      "| 2002/10/1| 1763|\n",
      "|2003/10/17| 1751|\n",
      "| 2001/11/1| 1736|\n",
      "| 2001/10/1| 1707|\n",
      "|2003/10/16| 1701|\n",
      "|  2004/6/1| 1698|\n",
      "|  2002/8/1| 1688|\n",
      "| 2003/8/21| 1683|\n",
      "|  2001/6/1| 1660|\n",
      "| 2003/11/1| 1655|\n",
      "+----------+-----+\n",
      "only showing top 20 rows\n",
      "\n",
      "Most: 2003/1/1 | 2023\n",
      "+----------+-----+\n",
      "|YYYY/MM/DD|count|\n",
      "+----------+-----+\n",
      "|  2011/2/2|  320|\n",
      "|  2014/1/6|  365|\n",
      "|2017/12/25|  394|\n",
      "|  2014/1/5|  404|\n",
      "|2013/12/25|  425|\n",
      "|2014/12/25|  438|\n",
      "|  2015/1/8|  447|\n",
      "|2014/11/27|  453|\n",
      "| 2015/2/19|  463|\n",
      "|  2014/1/7|  466|\n",
      "|  2015/2/2|  469|\n",
      "| 2017/3/14|  470|\n",
      "|  2015/1/7|  473|\n",
      "|  2014/1/2|  482|\n",
      "|2016/12/25|  487|\n",
      "|2018/11/22|  493|\n",
      "|2015/12/25|  498|\n",
      "|2017/12/24|  501|\n",
      "|  2015/1/6|  502|\n",
      "|2010/12/25|  503|\n",
      "+----------+-----+\n",
      "only showing top 20 rows\n",
      "\n",
      "Least: 2011/2/2 | 320\n",
      "Avg: 1033.5167559296099\n"
     ]
    }
   ],
   "source": [
    "from pyspark.sql.functions import year, month, dayofmonth, lit, concat\n",
    "from datetime import datetime, timedelta\n",
    "from pyspark.sql.types import StringType\n",
    "\n",
    "per_date = df.withColumn('YYYY/MM/DD', \n",
    "                         concat(\n",
    "                             year('dttm').cast(StringType()),\n",
    "                             lit(\"/\"),\n",
    "                             month('dttm').cast(StringType()),\n",
    "                             lit(\"/\"),\n",
    "                             dayofmonth('dttm').cast(StringType())))\\\n",
    "    .groupBy('YYYY/MM/DD')\\\n",
    "    .count()\\\n",
    "    .orderBy('count', ascending=False)\\\n",
    "    .na.drop()\n",
    "\n",
    "print('Total Days: ' + str(per_date.count()))\n",
    "\n",
    "per_date.show()\n",
    "\n",
    "max_value = per_date.head()\n",
    "print('Most: ' + str(max_value[0]) + ' | ' + str(max_value[1]))\n",
    "\n",
    "per_date = per_date.orderBy('count', ascending=True)\n",
    "per_date.show()\n",
    "\n",
    "min_value = per_date.head()\n",
    "print('Least: ' + str(min_value[0]) + ' | ' + str(min_value[1]))\n",
    "\n",
    "avg_day_value = per_date.agg({\"count\":\"avg\"}).collect()[0][0]\n",
    "print('Avg: ' + str(avg_day_value))\n"
   ]
  },
  {
   "cell_type": "code",
   "execution_count": 120,
   "metadata": {},
   "outputs": [
    {
     "name": "stdout",
     "output_type": "stream",
     "text": [
      "Total Days: 215\n",
      "+-------+-----+\n",
      "|YYYY/MM|count|\n",
      "+-------+-----+\n",
      "| 2002/7|46013|\n",
      "| 2001/7|44691|\n",
      "| 2003/8|44267|\n",
      "| 2002/8|44210|\n",
      "| 2001/8|44032|\n",
      "| 2003/7|43415|\n",
      "|2003/10|43327|\n",
      "| 2004/7|43236|\n",
      "|2002/10|43145|\n",
      "| 2004/8|43044|\n",
      "|2001/10|43028|\n",
      "| 2002/5|42913|\n",
      "| 2002/6|42834|\n",
      "| 2002/9|42388|\n",
      "| 2001/5|41821|\n",
      "| 2005/7|41805|\n",
      "| 2001/6|41724|\n",
      "| 2006/7|41544|\n",
      "| 2005/8|41543|\n",
      "|2004/10|41523|\n",
      "+-------+-----+\n",
      "only showing top 20 rows\n",
      "\n",
      "Most: 2002/7 | 46013\n",
      "+-------+-----+\n",
      "|YYYY/MM|count|\n",
      "+-------+-----+\n",
      "|2018/11|14475|\n",
      "| 2015/2|16344|\n",
      "| 2018/2|17207|\n",
      "| 2014/2|18006|\n",
      "| 2016/2|18680|\n",
      "| 2017/2|19229|\n",
      "| 2014/1|19970|\n",
      "| 2018/1|20245|\n",
      "|2016/12|20323|\n",
      "| 2017/3|20481|\n",
      "|2015/11|20548|\n",
      "| 2016/1|20584|\n",
      "|2014/11|20734|\n",
      "| 2015/1|20831|\n",
      "|2014/12|20953|\n",
      "| 2018/4|20976|\n",
      "|2017/12|21002|\n",
      "| 2018/3|21073|\n",
      "| 2016/4|21096|\n",
      "|2015/12|21102|\n",
      "+-------+-----+\n",
      "only showing top 20 rows\n",
      "\n",
      "Least: 2018/11 | 14475\n",
      "Avg: 31414.102325581396\n"
     ]
    }
   ],
   "source": [
    "from pyspark.sql.functions import year, month, dayofmonth, lit, concat\n",
    "from datetime import datetime, timedelta\n",
    "from pyspark.sql.types import StringType\n",
    "\n",
    "per_month = df.withColumn('YYYY/MM', \n",
    "                         concat(\n",
    "                             year('dttm').cast(StringType()),\n",
    "                             lit(\"/\"),\n",
    "                             month('dttm').cast(StringType())))\\\n",
    "    .groupBy('YYYY/MM')\\\n",
    "    .count()\\\n",
    "    .orderBy('count', ascending=False)\\\n",
    "    .na.drop()\n",
    "\n",
    "print('Total Months: ' + str(per_month.count()))\n",
    "\n",
    "per_month.show()\n",
    "\n",
    "max_value = per_month.head()\n",
    "print('Most: ' + str(max_value[0]) + ' | ' + str(max_value[1]))\n",
    "\n",
    "per_month = per_month.orderBy('count', ascending=True)\n",
    "per_month.show()\n",
    "\n",
    "min_value = per_month.head()\n",
    "print('Least: ' + str(min_value[0]) + ' | ' + str(min_value[1]))\n",
    "\n",
    "avg_day_value = per_month.agg({\"count\":\"avg\"}).collect()[0][0]\n",
    "print('Avg: ' + str(avg_day_value))\n"
   ]
  },
  {
   "cell_type": "code",
   "execution_count": 122,
   "metadata": {},
   "outputs": [
    {
     "name": "stdout",
     "output_type": "stream",
     "text": [
      "+--------------------+------+\n",
      "|         Description| count|\n",
      "+--------------------+------+\n",
      "|              SIMPLE|796955|\n",
      "|      $500 AND UNDER|547562|\n",
      "|DOMESTIC BATTERY ...|517862|\n",
      "|          TO VEHICLE|375202|\n",
      "|         TO PROPERTY|355215|\n",
      "|           OVER $500|348830|\n",
      "|POSS: CANNABIS 30...|276637|\n",
      "|      FORCIBLE ENTRY|263149|\n",
      "|          AUTOMOBILE|246469|\n",
      "|       FROM BUILDING|227082|\n",
      "|        RETAIL THEFT|167601|\n",
      "|    TELEPHONE THREAT|134604|\n",
      "|             TO LAND|119847|\n",
      "|         POSS: CRACK|119151|\n",
      "|      UNLAWFUL ENTRY|103049|\n",
      "|HARASSMENT BY TEL...|100475|\n",
      "|AGGRAVATED: OTHER...| 93369|\n",
      "| POSS: HEROIN(WHITE)| 92069|\n",
      "|      ARMED: HANDGUN| 90622|\n",
      "|STRONGARM - NO WE...| 88800|\n",
      "+--------------------+------+\n",
      "only showing top 20 rows\n",
      "\n"
     ]
    }
   ],
   "source": [
    "df_desc = df.select('Description').groupBy('Description').count().orderBy('count', ascending=False).na.drop()\n",
    "df_desc.show()"
   ]
  },
  {
   "cell_type": "code",
   "execution_count": 126,
   "metadata": {},
   "outputs": [
    {
     "name": "stdout",
     "output_type": "stream",
     "text": [
      "42.022910333\n",
      "36.619446395\n",
      "-87.524529378\n",
      "-91.686565684\n"
     ]
    }
   ],
   "source": [
    "max_lat = df.select('Latitude').orderBy('Latitude', ascending=False).na.drop().head()[0]\n",
    "min_lat = df.select('Latitude').orderBy('Latitude', ascending=True).na.drop().head()[0]\n",
    "print(max_lat)\n",
    "print(min_lat)\n",
    "max_lon = df.select('Longitude').orderBy('Longitude', ascending=False).na.drop().head()[0]\n",
    "min_lon = df.select('Longitude').orderBy('Longitude', ascending=True).na.drop().head()[0]\n",
    "print(max_lon)\n",
    "print(min_lon)"
   ]
  },
  {
   "cell_type": "code",
   "execution_count": null,
   "metadata": {},
   "outputs": [],
   "source": []
  },
  {
   "cell_type": "code",
   "execution_count": null,
   "metadata": {},
   "outputs": [],
   "source": []
  }
 ],
 "metadata": {
  "kernelspec": {
   "display_name": "Python 3",
   "language": "python",
   "name": "python3"
  },
  "language_info": {
   "codemirror_mode": {
    "name": "ipython",
    "version": 3
   },
   "file_extension": ".py",
   "mimetype": "text/x-python",
   "name": "python",
   "nbconvert_exporter": "python",
   "pygments_lexer": "ipython3",
   "version": "3.7.1"
  }
 },
 "nbformat": 4,
 "nbformat_minor": 2
}
