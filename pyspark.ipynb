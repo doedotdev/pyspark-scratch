{
 "cells": [
  {
   "cell_type": "code",
   "execution_count": 1,
   "metadata": {},
   "outputs": [
    {
     "name": "stdout",
     "output_type": "stream",
     "text": [
      "3.7.1\n"
     ]
    }
   ],
   "source": [
    "import platform\n",
    "print(platform.python_version())"
   ]
  },
  {
   "cell_type": "code",
   "execution_count": 55,
   "metadata": {},
   "outputs": [
    {
     "name": "stdout",
     "output_type": "stream",
     "text": [
      "2.4.0\n"
     ]
    }
   ],
   "source": [
    "from pyspark.sql import SparkSession, types\n",
    "from pyspark.sql.functions import to_timestamp, unix_timestamp, max as max_dttm\n",
    "from pyspark.sql.types import *\n",
    "spark = SparkSession.builder.appName('PySpark').getOrCreate()\n",
    "print(spark.version)"
   ]
  },
  {
   "cell_type": "code",
   "execution_count": 3,
   "metadata": {},
   "outputs": [
    {
     "name": "stdout",
     "output_type": "stream",
     "text": [
      "root\n",
      " |-- ID: integer (nullable = true)\n",
      " |-- Case Number: string (nullable = true)\n",
      " |-- Date: string (nullable = true)\n",
      " |-- Block: string (nullable = true)\n",
      " |-- IUCR: string (nullable = true)\n",
      " |-- Primary Type: string (nullable = true)\n",
      " |-- Description: string (nullable = true)\n",
      " |-- Location Description: string (nullable = true)\n",
      " |-- Arrest: boolean (nullable = true)\n",
      " |-- Domestic: boolean (nullable = true)\n",
      " |-- Beat: integer (nullable = true)\n",
      " |-- District: integer (nullable = true)\n",
      " |-- Ward: integer (nullable = true)\n",
      " |-- Community Area: integer (nullable = true)\n",
      " |-- FBI Code: string (nullable = true)\n",
      " |-- X Coordinate: integer (nullable = true)\n",
      " |-- Y Coordinate: integer (nullable = true)\n",
      " |-- Year: integer (nullable = true)\n",
      " |-- Updated On: string (nullable = true)\n",
      " |-- Latitude: double (nullable = true)\n",
      " |-- Longitude: double (nullable = true)\n",
      " |-- Location: string (nullable = true)\n",
      "\n"
     ]
    }
   ],
   "source": [
    "df = spark.read.csv('chicago_crimes_2001_to_present.csv', header=True, inferSchema=True)\n",
    "# df.show(2)\n",
    "df.printSchema()"
   ]
  },
  {
   "cell_type": "code",
   "execution_count": 4,
   "metadata": {},
   "outputs": [],
   "source": [
    "df = df.withColumn('dttm', unix_timestamp('Date', \"MM/dd/yyyy hh:mm:ss aa\").cast(TimestampType()))"
   ]
  },
  {
   "cell_type": "code",
   "execution_count": 38,
   "metadata": {},
   "outputs": [
    {
     "name": "stdout",
     "output_type": "stream",
     "text": [
      "2018-11-22 23:56:00\n",
      "2001-01-01 00:00:00\n",
      "1225414555.8439384\n"
     ]
    }
   ],
   "source": [
    "# df.printSchema()\n",
    "# df.groupBy(\"ID\", \"Case Number\").agg(max_dttm(\"dttm\")).show()\n",
    "\n",
    "# df.groupby().max('dttm').collect()[0].asDict()['max(dttm)']\n",
    "# df.groupBy(\"Date\").agg(max(\"dttm\")).show()\n",
    "\n",
    "print(df.agg({\"dttm\":\"max\"}).collect()[0][0])\n",
    "print(df.agg({\"dttm\":\"min\"}).collect()[0][0])\n"
   ]
  },
  {
   "cell_type": "code",
   "execution_count": 52,
   "metadata": {},
   "outputs": [
    {
     "name": "stdout",
     "output_type": "stream",
     "text": [
      "+----+------+\n",
      "|year| count|\n",
      "+----+------+\n",
      "|null|   247|\n",
      "|2001|485738|\n",
      "|2002|486742|\n",
      "|2003|475923|\n",
      "|2004|469366|\n",
      "|2005|453686|\n",
      "|2006|448078|\n",
      "|2007|436986|\n",
      "|2008|427024|\n",
      "|2009|392649|\n",
      "|2010|370277|\n",
      "|2011|351736|\n",
      "|2012|335908|\n",
      "|2013|307020|\n",
      "|2014|275196|\n",
      "|2015|263930|\n",
      "|2016|268814|\n",
      "|2017|267811|\n",
      "|2018|237148|\n",
      "+----+------+\n",
      "\n"
     ]
    }
   ],
   "source": [
    "from pyspark.sql.functions import year\n",
    "year_general = df.select(year('dttm').alias('year')).groupBy('year').count().orderBy('year')\n",
    "year_general.show()\n",
    "# year_general_max = year_general.agg({\"year\":\"max\"}).collect()[0][0]\n",
    "# print(year_general_max)\n",
    "# year_general.filter(year_general['count'] == year_general_max).show()\n",
    "# print(year_general.agg({\"year\":\"min\"}).collect()[0][0])\n",
    "# print(year_general.agg({\"year\":\"avg\"}).collect()[0][0])"
   ]
  },
  {
   "cell_type": "code",
   "execution_count": 57,
   "metadata": {},
   "outputs": [
    {
     "name": "stdout",
     "output_type": "stream",
     "text": [
      "2002: 486742\n"
     ]
    }
   ],
   "source": [
    "max_value = year_general.agg({\"count\":\"max\"}).collect()[0][0]\n",
    "max_year = year_general.filter(year_general['count'] == max_value).collect()[0][0]\n",
    "print(str(max_year) + \": \" + str(max_value))"
   ]
  },
  {
   "cell_type": "code",
   "execution_count": null,
   "metadata": {},
   "outputs": [],
   "source": []
  }
 ],
 "metadata": {
  "kernelspec": {
   "display_name": "Python 3",
   "language": "python",
   "name": "python3"
  },
  "language_info": {
   "codemirror_mode": {
    "name": "ipython",
    "version": 3
   },
   "file_extension": ".py",
   "mimetype": "text/x-python",
   "name": "python",
   "nbconvert_exporter": "python",
   "pygments_lexer": "ipython3",
   "version": "3.7.1"
  }
 },
 "nbformat": 4,
 "nbformat_minor": 2
}
