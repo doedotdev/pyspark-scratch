{
 "cells": [
  {
   "cell_type": "code",
   "execution_count": 3,
   "metadata": {},
   "outputs": [],
   "source": [
    "from pyspark.sql import SparkSession\n",
    "spark = SparkSession.builder.appName('abc').getOrCreate()"
   ]
  },
  {
   "cell_type": "code",
   "execution_count": 39,
   "metadata": {},
   "outputs": [
    {
     "name": "stdout",
     "output_type": "stream",
     "text": [
      "+----+-----+\n",
      "|DATE|VALUE|\n",
      "+----+-----+\n",
      "|2020|    1|\n",
      "|2019|    3|\n",
      "|2018|    4|\n",
      "|2020|    5|\n",
      "|2019|    9|\n",
      "|2018|    6|\n",
      "+----+-----+\n",
      "\n",
      "+----+-----+----------+----------+--------------+\n",
      "|DATE|VALUE|MAX_WINDOW|SUM_WINDOW|CUM_SUM_WINDOW|\n",
      "+----+-----+----------+----------+--------------+\n",
      "|2020|    1|         5|         6|             1|\n",
      "|2020|    5|         5|         6|             6|\n",
      "|2019|    3|         9|        12|             3|\n",
      "|2019|    9|         9|        12|            12|\n",
      "|2018|    4|         6|        10|             4|\n",
      "|2018|    6|         6|        10|            10|\n",
      "+----+-----+----------+----------+--------------+\n",
      "\n"
     ]
    }
   ],
   "source": [
    "# create data with pandas\n",
    "import pandas as pd\n",
    "data = {\n",
    "    \"DATE\": [\"2020\", \"2019\", \"2018\", \"2020\", \"2019\", \"2018\"],\n",
    "    \"VALUE\": [1, 3, 4, 5, 9, 6]\n",
    "}\n",
    "pd_df  = pd.DataFrame(data)\n",
    "\n",
    "# make it a spark dataframe\n",
    "spark_df = spark.createDataFrame(pd_df)\n",
    "spark_df.show()\n",
    "\n",
    "'''\n",
    "Here is the shown input dataframe\n",
    "+----+-----+\n",
    "|DATE|VALUE|\n",
    "+----+-----+\n",
    "|2020|    1|\n",
    "|2019|    3|\n",
    "|2018|    4|\n",
    "|2020|    5|\n",
    "|2019|    9|\n",
    "|2018|    6|\n",
    "+----+-----+\n",
    "'''\n",
    "\n",
    "# perform window operations\n",
    "from pyspark.sql.window import Window\n",
    "from pyspark.sql.functions import max, sum\n",
    "\n",
    "w = Window.partitionBy(\"DATE\")\n",
    "w_preceding = Window.partitionBy(\"DATE\").orderBy('VALUE').rangeBetween(Window.unboundedPreceding, 0)\n",
    "\n",
    "spark_df = spark_df.withColumn(\"MAX_WINDOW\", max(\"VALUE\").over(w))\n",
    "spark_df = spark_df.withColumn(\"SUM_WINDOW\", sum(\"VALUE\").over(w))\n",
    "spark_df = spark_df.withColumn(\"CUM_SUM_WINDOW\", sum(\"VALUE\").over(w_preceding))\n",
    "\n",
    "'''\n",
    "here is the final result dataframe\n",
    "+----+-----+----------+----------+--------------+\n",
    "|DATE|VALUE|MAX_WINDOW|SUM_WINDOW|CUM_SUM_WINDOW|\n",
    "+----+-----+----------+----------+--------------+\n",
    "|2020|    1|         5|         6|             1|\n",
    "|2020|    5|         5|         6|             6|\n",
    "|2019|    3|         9|        12|             3|\n",
    "|2019|    9|         9|        12|            12|\n",
    "|2018|    4|         6|        10|             4|\n",
    "|2018|    6|         6|        10|            10|\n",
    "+----+-----+----------+----------+--------------+\n",
    "'''\n",
    "\n",
    "spark_df.show()"
   ]
  },
  {
   "cell_type": "code",
   "execution_count": null,
   "metadata": {},
   "outputs": [],
   "source": []
  }
 ],
 "metadata": {
  "kernelspec": {
   "display_name": "Python 3",
   "language": "python",
   "name": "python3"
  },
  "language_info": {
   "codemirror_mode": {
    "name": "ipython",
    "version": 3
   },
   "file_extension": ".py",
   "mimetype": "text/x-python",
   "name": "python",
   "nbconvert_exporter": "python",
   "pygments_lexer": "ipython3",
   "version": "3.7.6"
  }
 },
 "nbformat": 4,
 "nbformat_minor": 4
}
