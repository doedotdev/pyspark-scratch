{
 "cells": [
  {
   "cell_type": "code",
   "execution_count": 3,
   "metadata": {},
   "outputs": [
    {
     "name": "stdout",
     "output_type": "stream",
     "text": [
      "Python Version: 3.7.1\n",
      "Spark Version:  2.4.0\n"
     ]
    }
   ],
   "source": [
    "import platform\n",
    "print('Python Version: ' + platform.python_version())\n",
    "from pyspark.sql import SparkSession, types\n",
    "from pyspark.sql.functions import to_timestamp, unix_timestamp, max as max_dttm\n",
    "from pyspark.sql.types import *\n",
    "spark = SparkSession.builder.appName('PySpark').getOrCreate()\n",
    "print('Spark Version:  ' + spark.version)"
   ]
  },
  {
   "cell_type": "markdown",
   "metadata": {},
   "source": [
    "### Read in File, Add DTTM, Show Schema"
   ]
  },
  {
   "cell_type": "code",
   "execution_count": 4,
   "metadata": {},
   "outputs": [
    {
     "name": "stdout",
     "output_type": "stream",
     "text": [
      "root\n",
      " |-- ADDRESS_X: string (nullable = true)\n",
      " |-- LATITUDE_X: double (nullable = true)\n",
      " |-- LONGITUDE_X: double (nullable = true)\n",
      " |-- AGE: string (nullable = true)\n",
      " |-- COMMUNITY_COUNCIL_NEIGHBORHOOD: string (nullable = true)\n",
      " |-- CPD_NEIGHBORHOOD: string (nullable = true)\n",
      " |-- CRASHDATE: string (nullable = true)\n",
      " |-- CRASHLOCATION: string (nullable = true)\n",
      " |-- CRASHSEVERITY: string (nullable = true)\n",
      " |-- CRASHSEVERITYID: integer (nullable = true)\n",
      " |-- DATECRASHREPORTED: string (nullable = true)\n",
      " |-- DAYOFWEEK: string (nullable = true)\n",
      " |-- GENDER: string (nullable = true)\n",
      " |-- INJURIES: string (nullable = true)\n",
      " |-- INSTANCEID: string (nullable = true)\n",
      " |-- LIGHTCONDITIONSPRIMARY: string (nullable = true)\n",
      " |-- LOCALREPORTNO: string (nullable = true)\n",
      " |-- MANNEROFCRASH: string (nullable = true)\n",
      " |-- ROADCONDITIONSPRIMARY: string (nullable = true)\n",
      " |-- ROADCONTOUR: string (nullable = true)\n",
      " |-- ROADSURFACE: string (nullable = true)\n",
      " |-- SNA_NEIGHBORHOOD: string (nullable = true)\n",
      " |-- TYPEOFPERSON: string (nullable = true)\n",
      " |-- WEATHER: string (nullable = true)\n",
      " |-- ZIP: string (nullable = true)\n",
      "\n"
     ]
    }
   ],
   "source": [
    "df = spark.read.csv('Traffic_Crash_Reports__CPD_.csv', header=True, inferSchema=True)\n",
    "df = df.withColumn('DTTMCRASHREPORTED',to_timestamp(df.DATECRASHREPORTED, 'MM/dd/yyyy HH:mm:ss'))\n",
    "df.printSchema()"
   ]
  },
  {
   "cell_type": "markdown",
   "metadata": {},
   "source": [
    "### Show Dimensions"
   ]
  },
  {
   "cell_type": "code",
   "execution_count": 21,
   "metadata": {},
   "outputs": [
    {
     "name": "stdout",
     "output_type": "stream",
     "text": [
      "Rows: 194028\n",
      "Cols: 26\n"
     ]
    }
   ],
   "source": [
    "print('Rows: ' + str(df.count()))\n",
    "print('Cols: ' + str(len(df.columns)))"
   ]
  },
  {
   "cell_type": "markdown",
   "metadata": {},
   "source": [
    "### First and Last Date"
   ]
  },
  {
   "cell_type": "code",
   "execution_count": 20,
   "metadata": {},
   "outputs": [
    {
     "name": "stdout",
     "output_type": "stream",
     "text": [
      "First Date: 2012-01-02 04:50:00\n",
      "Last Date: 2018-12-31 12:47:00\n"
     ]
    }
   ],
   "source": [
    "first_date = df.agg({\"DTTMCRASHREPORTED\":\"min\"}).collect()[0][0]\n",
    "print('First Date: ' + str(first_date))\n",
    "\n",
    "last_date = df.agg({\"DTTMCRASHREPORTED\":\"max\"}).collect()[0][0]\n",
    "print('Last Date: ' + str(last_date))"
   ]
  },
  {
   "cell_type": "markdown",
   "metadata": {},
   "source": [
    "### Year Operations"
   ]
  },
  {
   "cell_type": "code",
   "execution_count": 39,
   "metadata": {},
   "outputs": [
    {
     "name": "stdout",
     "output_type": "stream",
     "text": [
      "Total Years: 7\n",
      "+----+-----+\n",
      "|year|count|\n",
      "+----+-----+\n",
      "|2012| 1963|\n",
      "|2013|24201|\n",
      "|2014|25775|\n",
      "|2015|34010|\n",
      "|2016|37613|\n",
      "|2017|35386|\n",
      "|2018|35023|\n",
      "+----+-----+\n",
      "\n",
      "Total Years: 7\n"
     ]
    }
   ],
   "source": [
    "from pyspark.sql.functions import year, countDistinct\n",
    "\n",
    "# get total years from main data frame\n",
    "\n",
    "total_years = df.agg(countDistinct(year('DTTMCRASHREPORTED'))).na.drop().collect()[0][0]\n",
    "print('Total Years: ' + str(total_years))\n",
    "\n",
    "per_year = df.select(year('DTTMCRASHREPORTED').alias('year')).groupBy('year').count().orderBy('year').na.drop()\n",
    "per_year.show()\n",
    "\n",
    "# get total years if you pull out a seperate dataframe\n",
    "total_years = per_year.count()\n",
    "print('Total Years: ' + str(total_years))\n"
   ]
  },
  {
   "cell_type": "code",
   "execution_count": 37,
   "metadata": {},
   "outputs": [
    {
     "data": {
      "text/plain": [
       "<matplotlib.axes._subplots.AxesSubplot at 0x11c7706a0>"
      ]
     },
     "execution_count": 37,
     "metadata": {},
     "output_type": "execute_result"
    },
    {
     "data": {
      "image/png": "[encoded data removed]",
      "text/plain": [
       "<Figure size 432x288 with 1 Axes>"
      ]
     },
     "metadata": {
      "needs_background": "light"
     },
     "output_type": "display_data"
    }
   ],
   "source": [
    "import matplotlib\n",
    "import matplotlib.pyplot as plt\n",
    "import numpy as np\n",
    "%matplotlib inline\n",
    "\n",
    "per_year = df.select(year('DTTMCRASHREPORTED').alias('year')).groupBy('year').count().orderBy('year', ascending=True).na.drop()\n",
    "\n",
    "per_year_pandas_df = per_year.toPandas()\n",
    "per_year_pandas_df.plot(kind='bar',x='year',y='count',colormap='winter_r', title='Cincinnati Crash Reports 2012 - 2018')"
   ]
  },
  {
   "cell_type": "code",
   "execution_count": null,
   "metadata": {},
   "outputs": [],
   "source": []
  }
 ],
 "metadata": {
  "kernelspec": {
   "display_name": "Python 3",
   "language": "python",
   "name": "python3"
  },
  "language_info": {
   "codemirror_mode": {
    "name": "ipython",
    "version": 3
   },
   "file_extension": ".py",
   "mimetype": "text/x-python",
   "name": "python",
   "nbconvert_exporter": "python",
   "pygments_lexer": "ipython3",
   "version": "3.7.1"
  }
 },
 "nbformat": 4,
 "nbformat_minor": 2
}
